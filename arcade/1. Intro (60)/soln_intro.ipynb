{
 "cells": [
  {
   "cell_type": "markdown",
   "metadata": {},
   "source": [
    "# 3. Smooth Sailing (5-1)"
   ]
  },
  {
   "cell_type": "markdown",
   "metadata": {},
   "source": [
    "## 13. reverseInParentheses\n",
    "Write a function that reverses characters in (possibly nested) parentheses in the input string.\n",
    "\n",
    "Input strings will always be well-formed with matching ()s.\n",
    "\n",
    "Example\n",
    "\n",
    "For inputString = \"(bar)\", the output should be\n",
    "solution(inputString) = \"rab\";\n",
    "\n",
    "For inputString = \"foo(bar)baz\", the output should be\n",
    "solution(inputString) = \"foorabbaz\";\n",
    "\n",
    "For inputString = \"foo(bar)baz(blim)\", the output should be\n",
    "solution(inputString) = \"foorabbazmilb\";\n",
    "\n",
    "For inputString = \"foo(bar(baz))blim\", the output should be\n",
    "solution(inputString) = \"foobazrabblim\".\n",
    "Because \"foo(bar(baz))blim\" becomes \"foo(barzab)blim\" and then \"foobazrabblim\".\n"
   ]
  },
  {
   "cell_type": "code",
   "execution_count": 23,
   "metadata": {},
   "outputs": [
    {
     "name": "stdout",
     "output_type": "stream",
     "text": [
      "\"\"+(bar)[::-1]+\"\"\n",
      "\"foo\"+(bar)[::-1]+\"\"baz\n",
      "\"foo\"+(bar)[::-1]+\"\"baz\"+(blim)[::-1]+\"\"\n",
      "\"foo\"+(bar\"+(baz)[::-1]+\"\")[::-1]+\"\"blim\n"
     ]
    }
   ],
   "source": [
    "def reverseInParentheses(s):\n",
    "    return '\"'+s.replace('(', '\"+(').replace(')', ')[::-1]+\"'+'\"')\n",
    "\n",
    "print(reverseInParentheses('(bar)'))\n",
    "print(reverseInParentheses('foo(bar)baz'))\n",
    "print(reverseInParentheses('foo(bar)baz(blim)'))\n",
    "print(reverseInParentheses('foo(bar(baz))blim'))"
   ]
  },
  {
   "cell_type": "markdown",
   "metadata": {},
   "source": [
    "# 5. Island of Knowledge(6-5)"
   ]
  },
  {
   "cell_type": "markdown",
   "metadata": {},
   "source": [
    "## 19. areEquallyStrong\n",
    "Call two arms equally strong if the heaviest weights they each are able to lift are equal.\n",
    "\n",
    "Call two people equally strong if their strongest arms are equally strong (the strongest arm can be both the right and the left), and so are their weakest arms.\n",
    "\n",
    "Given your and your friend's arms' lifting capabilities find out if you two are equally strong.\n",
    "\n",
    "Example\n",
    "\n",
    "For yourLeft = 10, yourRight = 15, friendsLeft = 15, and friendsRight = 10, the output should be\n",
    "solution(yourLeft, yourRight, friendsLeft, friendsRight) = true;\n",
    "\n",
    "For yourLeft = 15, yourRight = 10, friendsLeft = 15, and friendsRight = 10, the output should be\n",
    "solution(yourLeft, yourRight, friendsLeft, friendsRight) = true;\n",
    "\n",
    "For yourLeft = 15, yourRight = 10, friendsLeft = 15, and friendsRight = 9, the output should be\n",
    "solution(yourLeft, yourRight, friendsLeft, friendsRight) = false."
   ]
  },
  {
   "cell_type": "code",
   "execution_count": null,
   "metadata": {},
   "outputs": [],
   "source": [
    "def areEquallyStrong():\n",
    "    pass"
   ]
  },
  {
   "cell_type": "markdown",
   "metadata": {},
   "source": [
    "## 20. arrayMaximalAdjacentDifference\n",
    "Given an array of integers, find the maximal absolute difference between \n",
    "any two of its adjacent elements.\n",
    "\n",
    "Example\n",
    "\n",
    "For inputArray = [2, 4, 1, 0], the output should be\n",
    "solution(inputArray) = 3."
   ]
  },
  {
   "cell_type": "markdown",
   "metadata": {},
   "source": [
    "## 22. avoidObstacles\n",
    "\n",
    "You are given an array of integers representing coordinates of obstacles situated on a straight line.\n",
    "\n",
    "Assume that you are jumping from the point with coordinate 0 to the right.\n",
    " You are allowed only to make jumps of the same length represented by some integer.\n",
    "\n",
    "Find the minimal length of the jump enough to avoid all the obstacles.\n",
    "\n",
    "Example\n",
    "\n",
    "For inputArray = [5, 3, 6, 7, 9], the output should be\n",
    "solution(inputArray) = 4.\n",
    "\n",
    "Check out the image below for better understanding:"
   ]
  },
  {
   "cell_type": "code",
   "execution_count": null,
   "metadata": {},
   "outputs": [],
   "source": [
    "def avoidObstacles():\n",
    "    pass\n"
   ]
  },
  {
   "cell_type": "markdown",
   "metadata": {},
   "source": [
    "## 23. Box Blur\n",
    "Last night you partied a little too hard. \n",
    " Now there's a black and white photo of you that's about to go viral!\n",
    " You can't let this ruin your reputation,\n",
    " so you want to apply the box blur algorithm to the photo to hide its content.\n",
    "\n",
    "The pixels in the input image are represented as integers.\n",
    " The algorithm distorts the input image in the following way:\n",
    " Every pixel x in the output image has a value equal to the\n",
    " average value of the pixel values from the 3 × 3 square \n",
    " that has its center at x, including x itself. \n",
    " All the pixels on the border of x are then removed.\n",
    "\n",
    "Return the blurred image as an integer, with the fractions rounded down.\n",
    "\n",
    "Example\n",
    "\n",
    "For\n",
    "```\n",
    "image = [[1, 1, 1],\n",
    "         [1, 7, 1],\n",
    "         [1, 1, 1]]\n",
    "```         \n",
    "the output should be solution(image) = [[1]].\n",
    "\n",
    "To get the value of the middle pixel in the input 3 × 3 square: (1 + 1 + 1 + 1 + 7 + 1 + 1 + 1 + 1) = 15 / 9 = 1.66666 = 1. The border pixels are cropped from the final result.\n",
    "\n",
    "For\n",
    "```\n",
    "image = [[7, 4, 0, 1],\n",
    "         [5, 6, 2, 2],\n",
    "         [6, 10, 7, 8],\n",
    "         [1, 4, 2, 0]]\n",
    "```         \n",
    "the output should be\n",
    "\n",
    "```\n",
    "solution(image) = [[5, 4],\n",
    "                  [4, 4]]\n",
    "```\n",
    "                \n",
    "There are four 3 × 3 squares in the input image, so there should be four integers in the blurred output. To get the first value: (7 + 4 + 0 + 5 + 6 + 2 + 6 + 10 + 7) = 47 / 9 = 5.2222 = 5. The other three integers are obtained the same way, then the surrounding integers are cropped from the final result.\n"
   ]
  },
  {
   "cell_type": "code",
   "execution_count": null,
   "metadata": {},
   "outputs": [],
   "source": [
    "def BoxBlur():\n",
    "    pass"
   ]
  },
  {
   "cell_type": "markdown",
   "metadata": {},
   "source": [
    "## 24. Minesweeper\n",
    "In the popular Minesweeper game you have a board with some mines\n",
    " and those cells that don't contain a mine have a number in it that\n",
    " indicates the total number of mines in the neighboring cells. \n",
    " Starting off with some arrangement of mines we want to create a Minesweeper game setup.\n",
    "\n",
    "Example\n",
    "\n",
    "For\n",
    "\n",
    "```\n",
    "matrix = [[true, false, false],\n",
    "          [false, true, false],\n",
    "          [false, false, false]]\n",
    "```\n",
    "\n",
    "the output should be\n",
    "```\n",
    "solution(matrix) = [[1, 2, 1],\n",
    "                    [2, 1, 1],\n",
    "                    [1, 1, 1]]\n",
    "```                \n",
    "Check out the image below for better understanding:\n"
   ]
  },
  {
   "cell_type": "markdown",
   "metadata": {},
   "source": [
    "# 8. Diving Deeper (4-0)"
   ]
  },
  {
   "cell_type": "markdown",
   "metadata": {},
   "source": [
    "## 35. firstDigit\n",
    "Find the leftmost digit that occurs in a given string.\n",
    "\n",
    "Example\n",
    "\n",
    "For inputString = \"var_1__Int\", the output should be\n",
    "solution(inputString) = '1';\n",
    "For inputString = \"q2q-q\", the output should be\n",
    "solution(inputString) = '2';\n",
    "For inputString = \"0ss\", the output should be\n",
    "solution(inputString) = '0'."
   ]
  },
  {
   "cell_type": "code",
   "execution_count": 15,
   "metadata": {},
   "outputs": [
    {
     "name": "stdout",
     "output_type": "stream",
     "text": [
      "1\n",
      "2\n",
      "0\n"
     ]
    }
   ],
   "source": [
    "import re\n",
    "def firstDigit(s):\n",
    "    for i in s:\n",
    "        if i.isdigit():\n",
    "            return i\n",
    "\n",
    "import re\n",
    "def firstDigit_1(s):\n",
    "    return re.search('\\\\d', s).group(0)\n",
    "\n",
    "import re\n",
    "def firstDigit_2(inputString):\n",
    "    return re.findall('\\d', inputString)[0]\n",
    "\n",
    "\n",
    "print(firstDigit('var_1_Int'))\n",
    "print(firstDigit('q2q-q'))\n",
    "print(firstDigit('0ss'))\n"
   ]
  },
  {
   "cell_type": "markdown",
   "metadata": {},
   "source": [
    "# 9. Dark Wilderness (5-0)"
   ]
  },
  {
   "cell_type": "markdown",
   "metadata": {},
   "source": [
    "## 39. Knapsack Light\n",
    "You found two items in a treasure chest!\n",
    " The first item weighs weight1 and is worth value1,\n",
    " and the second item weighs weight2 and is worth value2.\n",
    " What is the total maximum value of the items you can take with you,\n",
    " assuming that your max weight capacity is maxW and you can't come back for the items later?\n",
    "\n",
    "Note that there are only two items and you can't bring more than\n",
    " one item of each type, i.e. you can't take two first items or two second items.\n",
    "\n",
    "Example\n",
    "\n",
    "For `value1 = 10`, `weight1 = 5`, `value2 = 6`, `weight2 = 4`, and `maxW = 8`, the output should be\n",
    "`solution(value1, weight1, value2, weight2, maxW) = 10`.\n",
    "\n",
    "You can only carry the first item.\n",
    "\n",
    "For value1 = 10, weight1 = 5, value2 = 6, weight2 = 4, and maxW = 9, the output should be\n",
    "solution(value1, weight1, value2, weight2, maxW) = 16.\n",
    "\n",
    "You're strong enough to take both of the items with you.\n",
    "\n",
    "For value1 = 5, weight1 = 3, value2 = 7, weight2 = 4, and maxW = 6, the output should be\n",
    "solution(value1, weight1, value2, weight2, maxW) = 7.\n",
    "\n",
    "You can't take both items, but you can take any of them."
   ]
  },
  {
   "cell_type": "code",
   "execution_count": 1,
   "metadata": {},
   "outputs": [
    {
     "name": "stdout",
     "output_type": "stream",
     "text": [
      "16\n",
      "7\n"
     ]
    }
   ],
   "source": [
    "def knapsack_light(v1, w1, v2, w2, w):\n",
    "    if (w1 + w2 ) <= w:\n",
    "        return v1 + v2\n",
    "    elif w1 <= w and v1 >= v2:\n",
    "        return v1\n",
    "    elif w2 <= w:\n",
    "        return v2\n",
    "    else:\n",
    "        return 0\n",
    "    \n",
    "def knapsack_light_1(v1,w1, v2, w2, W):\n",
    "    return max(int(w1<=W)*v1, int(w2<=W)*v2, int(w1+w2<=W)*(v1+v2))\n",
    "\n",
    "print(knapsack_light(10, 5, 6, 4, 9))\n",
    "print(knapsack_light(5, 3, 7, 4, 6))"
   ]
  },
  {
   "cell_type": "markdown",
   "metadata": {},
   "source": [
    "## 40. longestDigitPrefix\n",
    "Given a string, output its longest prefix which contains only digits.\n",
    "\n",
    "Example\n",
    "\n",
    "For inputString = \"123aa1\", the output should be\n",
    "solution(inputString) = \"123\"."
   ]
  },
  {
   "cell_type": "code",
   "execution_count": 4,
   "metadata": {},
   "outputs": [
    {
     "data": {
      "text/plain": [
       "'123'"
      ]
     },
     "execution_count": 4,
     "metadata": {},
     "output_type": "execute_result"
    }
   ],
   "source": [
    "def longestDigitPrefix(i):\n",
    "    o = []\n",
    "    for j in i:\n",
    "        if j.isdigit():\n",
    "            o.append(j)\n",
    "        else:\n",
    "            break\n",
    "    \n",
    "    return ''.join(o)\n",
    "    # return ''.join([j for j in i if j.isdigit()])\n",
    "    \n",
    "import re\n",
    "def longestDigitPrefix_1(inputString):\n",
    "    return re.findall('^\\d*',inputString)[0]\n",
    "\n",
    "import re\n",
    "longestDigitPrefix_2 = lambda s: (re.findall(\"^[0-9]+\", s) + [\"\"])[0]\n",
    "\n",
    "longestDigitPrefix('123aa1')"
   ]
  },
  {
   "cell_type": "code",
   "execution_count": 12,
   "metadata": {},
   "outputs": [
    {
     "name": "stdout",
     "output_type": "stream",
     "text": [
      "['123']\n"
     ]
    }
   ],
   "source": [
    "import re\n",
    "print(re.findall('^\\d*', \"123abc123d\"))"
   ]
  },
  {
   "cell_type": "markdown",
   "metadata": {},
   "source": [
    "## 41. digitDegree\n",
    "Let's define digit degree of some positive integer as the number of times we need to replace this number with the sum of its digits until we get to a one digit number.\n",
    "\n",
    "Given an integer, find its digit degree.\n",
    "\n",
    "Example\n",
    "\n",
    "For `n = 5`, the output should be\n",
    "`solution(n) = 0;`\n",
    "\n",
    "For `n = 100`, the output should be\n",
    "`solution(n) = 1.\n",
    "1 + 0 + 0 = 1.`\n",
    "\n",
    "For `n = 91`, the output should be\n",
    "`solution(n) = 2.\n",
    "9 + 1 = 10 -> 1 + 0 = 1`"
   ]
  },
  {
   "cell_type": "code",
   "execution_count": 4,
   "metadata": {},
   "outputs": [
    {
     "name": "stdout",
     "output_type": "stream",
     "text": [
      "0\n",
      "1\n",
      "2\n"
     ]
    }
   ],
   "source": [
    "def digitDegree(n):\n",
    "    if len(str(n)) == 1: return 0\n",
    "    d = 0\n",
    "    while len(str(n))>1:\n",
    "        n = sum(list(map(int, str(n))))\n",
    "        d = d + 1\n",
    "    return d\n",
    "\n",
    "print(digitDegree(5))\n",
    "print(digitDegree(100))\n",
    "print(digitDegree(91))\n",
    "    "
   ]
  },
  {
   "cell_type": "markdown",
   "metadata": {},
   "source": [
    "## 42. Bishop and Pawn\n",
    "Given the positions of a white bishop and a black pawn on the standard chess board,\n",
    " determine whether the bishop can capture the pawn in one move.\n",
    "\n",
    "The bishop has no restrictions in distance for each move,\n",
    " but is limited to diagonal movement. Check out the example below to see how it can move:\n",
    "\n",
    "\n",
    "Example\n",
    "\n",
    "For bishop = \"a1\" and pawn = \"c3\", the output should be\n",
    "solution(bishop, pawn) = true.\n",
    "\n",
    "\n",
    "\n",
    "For bishop = \"h1\" and pawn = \"h3\", the output should be\n",
    "solution(bishop, pawn) = false."
   ]
  },
  {
   "cell_type": "code",
   "execution_count": 7,
   "metadata": {},
   "outputs": [
    {
     "name": "stdout",
     "output_type": "stream",
     "text": [
      "True\n",
      "False\n"
     ]
    }
   ],
   "source": [
    "def bishop_and_pawn(b, p):\n",
    "    return abs(ord(b[0])-int(b[1])) == abs(ord(p[0])-int(p[1]))\n",
    "\n",
    "print(bishop_and_pawn('a1', 'c3'))\n",
    "print(bishop_and_pawn('h1', 'h3'))"
   ]
  },
  {
   "cell_type": "markdown",
   "metadata": {},
   "source": []
  },
  {
   "cell_type": "markdown",
   "metadata": {},
   "source": [
    "# 12. Land of Logic (12-10)"
   ]
  },
  {
   "cell_type": "markdown",
   "metadata": {},
   "source": [
    "## 52. longestWord\n",
    "Define a word as a sequence of consecutive English letters. Find the longest word from the given string.\n",
    "\n",
    "Example\n",
    "\n",
    "For text = \"Ready, steady, go!\", the output should be\n",
    "solution(text) = \"steady\"."
   ]
  },
  {
   "cell_type": "code",
   "execution_count": 32,
   "metadata": {},
   "outputs": [
    {
     "name": "stdout",
     "output_type": "stream",
     "text": [
      "steady\n"
     ]
    }
   ],
   "source": [
    "import re\n",
    "import string\n",
    "def longestword(t):\n",
    "    return max(re.findall('\\w*', t), key=len)\n",
    "\n",
    "def longestword_1(text):\n",
    "    return max(re.split('[^a-zA-Z]', text), key=len)\n",
    "\n",
    "def longestword_2(t):\n",
    "    return max(\"\".join([i if i in string.ascii_letters else \" \" for i in t]).split(),key=len)\n",
    "\n",
    "def longestword_3(text):\n",
    "    return max(re.findall(r'[a-z]+', text, re.IGNORECASE), key=len)\n",
    "\n",
    "def longestword_4(text):\n",
    "    return max(re.findall(r'([A-Za-z]+)', text), key=len)\n",
    "\n",
    "print(longestword('Ready, steady go'))"
   ]
  },
  {
   "cell_type": "markdown",
   "metadata": {},
   "source": [
    "## 54. sumUpNumbers\n",
    "CodeMaster has just returned from shopping. \n",
    " He scanned the check of the items he bought and\n",
    " gave the resulting string to Ratiorg to figure out\n",
    " the total number of purchased items. Since Ratiorg\n",
    " is a bot he is definitely going to automate it, \n",
    " so he needs a program that sums up all the numbers which appear in the given input.\n",
    "\n",
    "Help Ratiorg by writing a function that returns the sum of numbers that appear in the given inputString.\n",
    "\n",
    "Example\n",
    "\n",
    "For inputString = \"2 apples, 12 oranges\", the output should be\n",
    "solution(inputString) = 14."
   ]
  },
  {
   "cell_type": "code",
   "execution_count": 44,
   "metadata": {},
   "outputs": [
    {
     "name": "stdout",
     "output_type": "stream",
     "text": [
      "14\n"
     ]
    }
   ],
   "source": [
    "import re\n",
    "def sumUpNumbers(s):\n",
    "    return sum(list(map(int, ''.join([i if i.isdigit() else \" \" for i in s ]).split())))\n",
    "\n",
    "import re\n",
    "def sumUpNumbers_1(inputString):\n",
    "    l = re.findall(r\"\\d+\",inputString)\n",
    "    return sum([int(i) for i in l])\n",
    "\n",
    "def sumUpNumbers_2(s):\n",
    "    return sum(map(int,\"\".join([i if i.isdigit() else \" \" for i in s]).split()))\n",
    "\n",
    "def sumUpNumbers_3(i):\n",
    "    return sum(map(int,re.findall('\\d+',i)))\n",
    "\n",
    "def sumUpNumbers_4(inputString):\n",
    "    return sum(map(int, re.findall(r'\\d+', inputString, re.ASCII)))\n",
    "\n",
    "def sumUpNumbers_5(s):\n",
    "    return sum(map(int, re.findall(r'\\d+', s)))\n",
    "\n",
    "print(sumUpNumbers(\"2 apples, 12 oranges\"))"
   ]
  },
  {
   "cell_type": "markdown",
   "metadata": {},
   "source": [
    "## 55. Different Squares\n",
    "Given a rectangular matrix containing only digits,\n",
    " calculate the number of different 2 × 2 squares in it.\n",
    "\n",
    "Example\n",
    "\n",
    "For\n",
    "\n",
    "```\n",
    "matrix = [[1, 2, 1],\n",
    "          [2, 2, 2],\n",
    "          [2, 2, 2],\n",
    "          [1, 2, 3],\n",
    "          [2, 2, 1]]\n",
    "```\n",
    "\n",
    "the output should be\n",
    "solution(matrix) = 6.\n",
    "\n",
    "Here are all 6 different 2 × 2 squares:\n",
    "```\n",
    "1 2\n",
    "2 2\n",
    "2 1\n",
    "2 2\n",
    "2 2\n",
    "2 2\n",
    "2 2\n",
    "1 2\n",
    "2 2\n",
    "2 3\n",
    "2 3\n",
    "2 1\n",
    "```"
   ]
  },
  {
   "cell_type": "code",
   "execution_count": null,
   "metadata": {},
   "outputs": [],
   "source": [
    "def differentSquares():\n",
    "    pass"
   ]
  },
  {
   "cell_type": "markdown",
   "metadata": {},
   "source": [
    "## 56. digitProduct\n",
    "Given an integer product, find the smallest positive (i.e. greater than 0)\n",
    " integer the product of whose digits is equal to product. \n",
    " If there is no such integer, return -1 instead.\n",
    "\n",
    "Example\n",
    "\n",
    "For product = 12, the output should be\n",
    "solution(product) = 26;\n",
    "\n",
    "For product = 19, the output should be\n",
    "solution(product) = -1."
   ]
  },
  {
   "cell_type": "code",
   "execution_count": null,
   "metadata": {},
   "outputs": [],
   "source": [
    "def digitProduct(p):\n",
    "    pass\n",
    "\n"
   ]
  },
  {
   "cell_type": "markdown",
   "metadata": {},
   "source": [
    "## 57. FileNaming\n",
    "You are given an array of strings names representing filenames.\n",
    " The array is sorted in order of file creation, such that names[i]\n",
    " represents the name of a file created before names[i+1] and after names[i-1] \n",
    " (assume 0-based indexing). Because all files must have unique names, \n",
    " files created later with the same name as a file created earlier should have an \n",
    " additional (k) suffix in their names, where k is the smallest positive integer \n",
    " (starting from 1) that does not appear in previous file names.\n",
    "\n",
    "Your task is to iterate through all elements of names (from left to right) and update all filenames based on the above. Return an array of proper filenames.\n",
    "\n",
    "Example\n",
    "\n",
    "For names = [\"doc\", \"doc\", \"image\", \"doc(1)\", \"doc\"], the output should be solution(names) = [\"doc\", \"doc(1)\", \"image\", \"doc(1)(1)\", \"doc(2)\"].\n",
    "\n",
    "Since names[0] = \"doc\" and names[1] = \"doc\", update names[1] = \"doc(1)\"\n",
    "\n",
    "Since names[1] = \"doc(1)\" and names[3] = \"doc(1)\", update names{3} = \"doc(1)(1)\"\n",
    "\n",
    "Since names[0] = \"doc\", names[1] = \"doc(1)\", and names[4] = \"doc\", update names[4] = \"doc(2)\"\n"
   ]
  },
  {
   "cell_type": "code",
   "execution_count": null,
   "metadata": {},
   "outputs": [],
   "source": [
    "def fileNaming():\n",
    "    pass"
   ]
  },
  {
   "cell_type": "markdown",
   "metadata": {},
   "source": [
    "## 58. messageFromBinary\n",
    "You are taking part in an Escape Room challenge designed specifically for programmers.\n",
    " In your efforts to find a clue, you've found a binary code written on the wall behind a vase,\n",
    " and realized that it must be an encrypted message. After some thought,\n",
    " your first guess is that each consecutive 8 bits of the code stand for\n",
    " the character with the corresponding extended ASCII code.\n",
    "\n",
    "Assuming that your hunch is correct, decode the message.\n",
    "\n",
    "Example\n",
    "\n",
    "For code = \"010010000110010101101100011011000110111100100001\", the output should be\n",
    "solution(code) = \"Hello!\".\n",
    "\n",
    "The first 8 characters of the code are 01001000, which is 72 in the binary numeral system. 72 stands for H in the ASCII-table, so the first letter is H.\n",
    "Other letters can be obtained in the same manner.\n"
   ]
  },
  {
   "cell_type": "code",
   "execution_count": null,
   "metadata": {},
   "outputs": [],
   "source": [
    "def messageFromBinary():\n",
    "    pass"
   ]
  },
  {
   "cell_type": "markdown",
   "metadata": {},
   "source": [
    "## 59. spiralNumbers\n",
    "Construct a square matrix with a size N × N containing integers from 1 to N * N in a spiral order, starting from top-left and in clockwise direction.\n",
    "\n",
    "Example\n",
    "\n",
    "For n = 3, the output should be\n",
    "\n",
    "```\n",
    "solution(n) = [[1, 2, 3],\n",
    "               [8, 9, 4],\n",
    "               [7, 6, 5]]\n",
    "```"
   ]
  },
  {
   "cell_type": "code",
   "execution_count": null,
   "metadata": {},
   "outputs": [],
   "source": [
    "def spiralNumbers(n):\n",
    "    pass"
   ]
  },
  {
   "cell_type": "markdown",
   "metadata": {},
   "source": [
    "## 60. Sudoku\n",
    "Sudoku is a number-placement puzzle. The objective is to fill a 9 × 9 grid with digits\n",
    " so that each column, each row, and each of the nine 3 × 3 sub-grids that\n",
    " compose the grid contains all of the digits from 1 to 9.\n",
    "\n",
    "This algorithm should check if the given grid of numbers represents a correct solution to Sudoku.\n",
    "\n",
    "Example\n",
    "\n",
    "For\n",
    "```\n",
    "grid = [[1, 3, 2, 5, 4, 6, 9, 8, 7],\n",
    "        [4, 6, 5, 8, 7, 9, 3, 2, 1],\n",
    "        [7, 9, 8, 2, 1, 3, 6, 5, 4],\n",
    "        [9, 2, 1, 4, 3, 5, 8, 7, 6],\n",
    "        [3, 5, 4, 7, 6, 8, 2, 1, 9],\n",
    "        [6, 8, 7, 1, 9, 2, 5, 4, 3],\n",
    "        [5, 7, 6, 9, 8, 1, 4, 3, 2],\n",
    "        [2, 4, 3, 6, 5, 7, 1, 9, 8],\n",
    "        [8, 1, 9, 3, 2, 4, 7, 6, 5]]\n",
    "```\n",
    "\n",
    "the output should be\n",
    "solution(grid) = true;\n",
    "\n",
    "For\n",
    "\n",
    "```\n",
    "grid = [[8, 3, 6, 5, 3, 6, 7, 2, 9],\n",
    "        [4, 2, 5, 8, 7, 9, 3, 8, 1],\n",
    "        [7, 9, 1, 2, 1, 4, 6, 5, 4],\n",
    "        [9, 2, 1, 4, 3, 5, 8, 7, 6],\n",
    "        [3, 5, 4, 7, 6, 8, 2, 1, 9],\n",
    "        [6, 8, 7, 1, 9, 2, 5, 4, 3],\n",
    "        [5, 7, 6, 9, 8, 1, 4, 3, 2],\n",
    "        [2, 4, 3, 6, 5, 7, 1, 9, 8],\n",
    "        [8, 1, 9, 3, 2, 4, 7, 6, 5]]\n",
    "```\n",
    "\n",
    "the output should be\n",
    "solution(grid) = false.\n",
    "\n",
    "The output should be false: each of the nine 3 × 3 sub-grids should contain all of the digits from 1 to 9.\n",
    "These examples are represented on the image below.\n"
   ]
  },
  {
   "cell_type": "code",
   "execution_count": null,
   "metadata": {},
   "outputs": [],
   "source": [
    "def sudoku(grid):\n",
    "    pass"
   ]
  }
 ],
 "metadata": {
  "kernelspec": {
   "display_name": "Python 3",
   "language": "python",
   "name": "python3"
  },
  "language_info": {
   "codemirror_mode": {
    "name": "ipython",
    "version": 3
   },
   "file_extension": ".py",
   "mimetype": "text/x-python",
   "name": "python",
   "nbconvert_exporter": "python",
   "pygments_lexer": "ipython3",
   "version": "3.11.5"
  }
 },
 "nbformat": 4,
 "nbformat_minor": 2
}
