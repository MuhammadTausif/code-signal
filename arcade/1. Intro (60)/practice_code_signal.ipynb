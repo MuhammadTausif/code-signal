{
 "cells": [
  {
   "cell_type": "code",
   "execution_count": 3,
   "metadata": {},
   "outputs": [
    {
     "data": {
      "text/plain": [
       "'steady'"
      ]
     },
     "execution_count": 3,
     "metadata": {},
     "output_type": "execute_result"
    }
   ],
   "source": [
    "text = \"Ready, steady, go!\"\n",
    "\n",
    "import re\n",
    "\n",
    "max(re.split('[^a-zA-Z]', text), key=len)"
   ]
  },
  {
   "cell_type": "code",
   "execution_count": 13,
   "metadata": {},
   "outputs": [
    {
     "name": "stdout",
     "output_type": "stream",
     "text": [
      "True\n"
     ]
    }
   ],
   "source": [
    "time = \"13:58\"\n",
    "import operator\n",
    "\n",
    "t = time.split(':')\n",
    "if  (00 <= int(t[0]) <= 23) and (00<= int(t[1])<=59):\n",
    "    print(True)"
   ]
  },
  {
   "cell_type": "code",
   "execution_count": 24,
   "metadata": {},
   "outputs": [
    {
     "data": {
      "text/plain": [
       "['2', '12']"
      ]
     },
     "execution_count": 24,
     "metadata": {},
     "output_type": "execute_result"
    }
   ],
   "source": [
    "inputString = \"2 apples, 12 oranges\"\n",
    "import re\n",
    "sum([int(x) for x in re.findall(r'\\d+', inputString)])\n",
    "s = inputString\n",
    "[i if i.isdigit() else \" \" for i in inputString]\n",
    "\"\".join([i if i.isdigit() else \" \" for i in s]).split()\n",
    "\"\".join([i if i.isdigit() else \" \" for i in s]).split()\n"
   ]
  },
  {
   "cell_type": "code",
   "execution_count": 32,
   "metadata": {},
   "outputs": [
    {
     "data": {
      "text/plain": [
       "['aba', 'vcd', 'aba']"
      ]
     },
     "execution_count": 32,
     "metadata": {},
     "output_type": "execute_result"
    }
   ],
   "source": [
    "inputArray = [\"aba\", \"aa\", \"ad\", \"vcd\", \"aba\"]\n",
    "len(max(inputArray, key=len))\n",
    "[i for i in inputArray if len(i)==len(max(inputArray, key=len))]\n",
    "# [i for i in inputArray if len(i) == len(max(inputArray, key=len))]"
   ]
  },
  {
   "cell_type": "code",
   "execution_count": 38,
   "metadata": {},
   "outputs": [
    {
     "name": "stdout",
     "output_type": "stream",
     "text": [
      "3\n"
     ]
    }
   ],
   "source": [
    "s1 = \"aabcc\"\n",
    "s2 = \"adcaa\"\n",
    "\n",
    "s = lambda s1,s2: sum([min(s1.count(i), s2.count(i)) for i in set(s1)])\n",
    "\n",
    "print(s(s1,s2))"
   ]
  },
  {
   "cell_type": "code",
   "execution_count": 44,
   "metadata": {},
   "outputs": [
    {
     "data": {
      "text/plain": [
       "True"
      ]
     },
     "execution_count": 44,
     "metadata": {},
     "output_type": "execute_result"
    }
   ],
   "source": [
    "n = 1230\n",
    "\n",
    "l = str(n)[:len(str(n))//2]\n",
    "r = str(n)[len(str(n))//2:]\n",
    "sum(map(int, l))==sum(map(int, r))"
   ]
  },
  {
   "cell_type": "code",
   "execution_count": 50,
   "metadata": {},
   "outputs": [
    {
     "data": {
      "text/plain": [
       "[-1, 150, 160, 170, -1, -1, 180, 190]"
      ]
     },
     "execution_count": 50,
     "metadata": {},
     "output_type": "execute_result"
    }
   ],
   "source": [
    "a = [-1, 150, 190, 170, -1, -1, 160, 180]\n",
    "\n",
    "b = list(sorted(filter(lambda x: x != -1, a)))\n",
    "\n",
    "[b.pop(0) if i != -1 else -1 for i in a]\n"
   ]
  },
  {
   "cell_type": "code",
   "execution_count": 62,
   "metadata": {},
   "outputs": [
    {
     "name": "stdout",
     "output_type": "stream",
     "text": [
      "\"foo\"+\"+(\"\"bar\"+\"+(\"\"baz\"\")[::-1]+\"[::-1]+\"\"\")[::-1]+\"[::-1]+\"blim\"\n"
     ]
    }
   ],
   "source": [
    "s = \"foo(bar(baz))blim\"\n",
    "\n",
    "\n",
    "s = '\"' + s.replace('(', '\"+(\"').replace(')', '\")[::-1]+\"') + '\"'\n",
    "s = '' + s.replace('(', '\"+(\"').replace(')', '\")[::-1]+\"') + ''\n",
    "print(s)\n",
    "\n",
    "\n",
    "# eval('\"' + s.replace('(', '\"+(\"').replace(')', '\")[::-1]+\"') + '\"')\n",
    "# eval(s)\n",
    "\n",
    "def solution(s):\n",
    "    return eval('\"' + s.replace('(', '\"+(\"').replace(')', '\")[::-1]+\"') + '\"')\n",
    "\n",
    "\n",
    "# solution(s)"
   ]
  },
  {
   "cell_type": "code",
   "execution_count": null,
   "metadata": {},
   "outputs": [],
   "source": []
  }
 ],
 "metadata": {
  "kernelspec": {
   "display_name": "Python 3",
   "language": "python",
   "name": "python3"
  },
  "language_info": {
   "codemirror_mode": {
    "name": "ipython",
    "version": 3
   },
   "file_extension": ".py",
   "mimetype": "text/x-python",
   "name": "python",
   "nbconvert_exporter": "python",
   "pygments_lexer": "ipython3",
   "version": "3.11.5"
  }
 },
 "nbformat": 4,
 "nbformat_minor": 2
}
