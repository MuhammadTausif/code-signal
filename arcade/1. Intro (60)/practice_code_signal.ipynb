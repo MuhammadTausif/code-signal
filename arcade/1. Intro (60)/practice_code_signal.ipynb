{
 "cells": [
  {
   "cell_type": "code",
   "execution_count": 3,
   "metadata": {},
   "outputs": [
    {
     "data": {
      "text/plain": [
       "'steady'"
      ]
     },
     "execution_count": 3,
     "metadata": {},
     "output_type": "execute_result"
    }
   ],
   "source": [
    "text = \"Ready, steady, go!\"\n",
    "\n",
    "import re\n",
    "\n",
    "max(re.split('[^a-zA-Z]', text), key=len)"
   ]
  },
  {
   "cell_type": "code",
   "execution_count": 13,
   "metadata": {},
   "outputs": [
    {
     "name": "stdout",
     "output_type": "stream",
     "text": [
      "True\n"
     ]
    }
   ],
   "source": [
    "time = \"13:58\"\n",
    "import operator\n",
    "\n",
    "t = time.split(':')\n",
    "if  (00 <= int(t[0]) <= 23) and (00<= int(t[1])<=59):\n",
    "    print(True)"
   ]
  },
  {
   "cell_type": "code",
   "execution_count": 24,
   "metadata": {},
   "outputs": [
    {
     "data": {
      "text/plain": [
       "['2', '12']"
      ]
     },
     "execution_count": 24,
     "metadata": {},
     "output_type": "execute_result"
    }
   ],
   "source": [
    "inputString = \"2 apples, 12 oranges\"\n",
    "import re\n",
    "sum([int(x) for x in re.findall(r'\\d+', inputString)])\n",
    "s = inputString\n",
    "[i if i.isdigit() else \" \" for i in inputString]\n",
    "\"\".join([i if i.isdigit() else \" \" for i in s]).split()\n",
    "\"\".join([i if i.isdigit() else \" \" for i in s]).split()\n"
   ]
  }
 ],
 "metadata": {
  "kernelspec": {
   "display_name": "Python 3",
   "language": "python",
   "name": "python3"
  },
  "language_info": {
   "codemirror_mode": {
    "name": "ipython",
    "version": 3
   },
   "file_extension": ".py",
   "mimetype": "text/x-python",
   "name": "python",
   "nbconvert_exporter": "python",
   "pygments_lexer": "ipython3",
   "version": "3.11.5"
  }
 },
 "nbformat": 4,
 "nbformat_minor": 2
}
