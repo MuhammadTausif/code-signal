{
 "cells": [
  {
   "cell_type": "markdown",
   "metadata": {},
   "source": [
    "# 1. Meet Python"
   ]
  },
  {
   "cell_type": "markdown",
   "metadata": {},
   "source": [
    "## 9. Max Function\n",
    "**_Implement the missing code, denoted by ellipses. You may not modify the pre-existing code._**\n",
    "\n",
    "You've just started to study impartial games, and came across an interesting theory. The theory is quite complicated, but it can be narrowed down to the following statements: solutions to all such games can be found with the _mex_ function. _Mex_ is an abbreviation of _minimum excludant_: for the given set `s` it finds the minimum non-negative integer that is not present in `s`.\n",
    "\n",
    "You don't yet know how to implement such a function efficiently, so would like to create a simplified version. For the given set `s` and given an `upperBound`, implement a function that will find its _mex_ if it's smaller than `upperBound` or return `upperBound` instead.\n",
    "\n",
    "Hint: for loops also have an else clause which executes when the loop completes normally, i.e. without encountering any breaks\n",
    "\n",
    "### Example\n",
    "\n",
    "For `s = [0, 4, 2, 3, 1, 7]` and `upperBound = 10`,\n",
    "the output should be\n",
    "`solution(s, upperBound) = 5`.\n",
    "\n",
    "`5` is the smallest non-negative integer that is not present in `s`, and it is smaller than `upperBound`.\n",
    "\n",
    "For `s = [0, 4, 2, 3, 1, 7]` and `upperBound = 3`,\n",
    "the output should be\n",
    "`solution(s, upperBound) = 3`.\n",
    "\n",
    "The minimum excludant for the given set is `5`, but it's greater than `upperBound`, so the output should be `3`."
   ]
  },
  {
   "cell_type": "code",
   "execution_count": 33,
   "metadata": {},
   "outputs": [
    {
     "name": "stdout",
     "output_type": "stream",
     "text": [
      "[1, 2, 1, 2]\n"
     ]
    }
   ],
   "source": [
    "# def maxFunction(a, u):\n",
    "#     l = sorted(list(a))\n",
    "#     for i in range(l[0],l[-1]+1):\n",
    "#         if i not in l or i == u:\n",
    "#             return i\n",
    "        \n",
    "\n",
    "# print(maxFunction([0,4,2,3,1,7],5))\n",
    "# print(maxFunction([0,4,2,3,1,7],3))\n",
    "\n",
    "print(2*[1,2])"
   ]
  },
  {
   "cell_type": "markdown",
   "metadata": {},
   "source": [
    "## 10. List Beautifier\n",
    "**_Implement the missing code, denoted by ellipses. You may not modify the pre-existing code._**\n",
    "\n",
    "Let's call a list beautiful if its first element is equal to its last element, or if a list is empty. Given a list a, your task is to chop off its first and its last element until it becomes beautiful. Implement a function that will make the given a beautiful as described, and return the resulting list as an answer.\n",
    "\n",
    "_Hint: one of the features introduced in Python 3 called extended unpacking could help here._\n",
    "\n",
    "### Example\n",
    "\n",
    "For `a = [3, 4, 2, 4, 38, 4, 5, 3, 2]`, the output should be\n",
    "\n",
    "`solution(a) = [4, 38, 4]`.\n",
    "\n",
    "Here's how the answer is obtained:\n",
    "`[3, 4, 2, 4, 38, 4, 5, 3, 2]` => `[4, 2, 4, 38, 4, 5, 3]` => `[2, 4, 38, 4, 5]` => `[4, 38, 4]`.\n",
    "\n",
    "For `a = [1, 4, -5]`, the output should be\n",
    "\n",
    "`solution(a) = [4]`."
   ]
  },
  {
   "cell_type": "code",
   "execution_count": 21,
   "metadata": {},
   "outputs": [
    {
     "name": "stdout",
     "output_type": "stream",
     "text": [
      "[5, 4, 38, 4, 5]\n",
      "[4]\n",
      "[5, 4, 5]\n"
     ]
    }
   ],
   "source": [
    "def listBeautifier(l):\n",
    "    while len(l) != 0:\n",
    "        if l[0] == l[-1]:\n",
    "            return l\n",
    "        else:\n",
    "            l.pop()\n",
    "            del l[0]    \n",
    "    return l\n",
    "\n",
    "def listBeautifier_1(a):\n",
    "    res = a[:]\n",
    "    while res and res[0] != res[-1]:\n",
    "        a, *res, b = res\n",
    "    return res\n",
    "\n",
    "def solution(a):\n",
    "    res = a[:]\n",
    "    while res and res[0] != res[-1]:\n",
    "        _, *res, _ = res\n",
    "    return res\n",
    "\n",
    "def solution(a):\n",
    "    res = a[:]\n",
    "    while res and res[0] != res[-1]:\n",
    "        a, *res, b = res\n",
    "    return res\n",
    "\n",
    "def solution(a):\n",
    "    res = a[:]\n",
    "    while res and res[0] != res[-1]:\n",
    "        first, *res, last = res\n",
    "    return res\n",
    "\n",
    "\n",
    "\n",
    "print(listBeautifier([3,4,5,4,38,4,5,3,2]))\n",
    "print(listBeautifier([3,4,5]))\n",
    "print(listBeautifier([5,4,5]))\n"
   ]
  },
  {
   "cell_type": "markdown",
   "metadata": {},
   "source": [
    "# 2. Slithering in Strings (10-9)"
   ]
  },
  {
   "cell_type": "markdown",
   "metadata": {},
   "source": [
    "## 11. String Defination (Quiz)\n",
    "Incorrect difination of strings:\n",
    "`''String''`, `\"\"Strring\"\"`"
   ]
  },
  {
   "cell_type": "markdown",
   "metadata": {},
   "source": [
    "## 12. Fix Message"
   ]
  },
  {
   "cell_type": "markdown",
   "metadata": {},
   "source": [
    "\n",
    "One of your friends has an awful writing style: he almost never starts a message with a capital letter, but adds uppercase letters in random places throughout the message. It makes chatting with him very difficult for you, so you decided to write a plugin that will change each `message` received from your friend into a more readable form.\n",
    "\n",
    "Implement a function that will change the very first symbol of the given `message` to uppercase, and make all the other letters lowercase.\n",
    "\n",
    "Example\n",
    "\n",
    "For `message = \"you'll NEVER believe what that 'FrIeNd' of mine did!!1\"`,\n",
    "the output should be\n",
    "\n",
    "`solution(message) = \"You'll never believe what that 'friend' of mine did!!1\"`."
   ]
  },
  {
   "cell_type": "code",
   "execution_count": 49,
   "metadata": {},
   "outputs": [
    {
     "name": "stdout",
     "output_type": "stream",
     "text": [
      "You'll never believe what that 'friend' of mine did!!1\n"
     ]
    }
   ],
   "source": [
    "def fixMessage(s):\n",
    "    return s.capitalize()\n",
    "\n",
    "m = \"you'll NEVER believe what that 'FrIeNd' of mine did!!1\"\n",
    "print(fixMessage(m))"
   ]
  },
  {
   "cell_type": "markdown",
   "metadata": {},
   "source": [
    "## 13. Cat Walk *****"
   ]
  },
  {
   "cell_type": "markdown",
   "metadata": {},
   "source": [
    "You've been working on a particularly difficult algorithm all day, and finally decided to take a break and drink some coffee. To your horror, when you returned you found out that your cat decided to take a walk on the keyboard in your absence, and pressed a key or two. Your computer doesn't react to letters being pressed when an unauthorized action appears, but allows typing whitespace characters and moving the arrow keys, so now your masterpiece contains way too many whitespace characters.\n",
    "\n",
    "To repair the damage, you need to start with implementing a function that will replace all multiple space characters in the given `line` of your code with single ones. In addition, all leading and trailing whitespaces should be removed.\n",
    "\n",
    "Example\n",
    "\n",
    "For\n",
    "```\n",
    "line = \"def      m   e  gaDifficu     ltFun        ction(x):\"\n",
    "```\n",
    "the output should be\n",
    "\n",
    "`solution(line) = \"def m e gaDifficu ltFun ction(x):\"`."
   ]
  },
  {
   "cell_type": "code",
   "execution_count": 53,
   "metadata": {},
   "outputs": [
    {
     "name": "stdout",
     "output_type": "stream",
     "text": [
      "None\n"
     ]
    }
   ],
   "source": [
    "line = \"def      m   e  gaDifficu     ltFun        ction(x):\"\n",
    "def catWalk(l):    \n",
    "    pass\n",
    "\n",
    "print(catWalk(line))"
   ]
  },
  {
   "cell_type": "markdown",
   "metadata": {},
   "source": [
    "## 14. Convert Tab"
   ]
  },
  {
   "cell_type": "markdown",
   "metadata": {},
   "source": [
    "You found an awesome customizable Python IDE that has almost everything you'd like to see in your working environment. However, after a couple days of coding you discover that there is one important feature that this IDE lacks: it cannot convert tabs to spaces. Luckily, the IDE is easily customizable, so you decide to write a plugin that would convert all tabs in the code into the given number of whitespace characters.\n",
    "\n",
    "Implement a function that, given a piece of `code` and a positive integer `x` will turn each tabulation character in `code` into `x` whitespace characters.\n",
    "\n",
    "Example\n",
    "\n",
    "For `code = \"\\treturn False\"` and `x = 4`, the output should be\n",
    "```\n",
    "solution(code, x) = \"    return False\"\n",
    "```"
   ]
  },
  {
   "cell_type": "code",
   "execution_count": 56,
   "metadata": {},
   "outputs": [
    {
     "name": "stdout",
     "output_type": "stream",
     "text": [
      "    return False\n"
     ]
    }
   ],
   "source": [
    "def convertTab(code, x):\n",
    "    return code.replace('\\t', ' '*x)\n",
    "\n",
    "code = \"\\treturn False\"\n",
    "x = 4\n",
    "print(convertTab(code, x))\n"
   ]
  },
  {
   "cell_type": "markdown",
   "metadata": {},
   "source": [
    "## 15. Feedback Review *****"
   ]
  },
  {
   "cell_type": "markdown",
   "metadata": {},
   "source": [
    "You've launched a revolutionary service not long ago, and were busy improving it for the last couple of months. When you finally decided that the service is perfect, you remembered that you created a feedbacks page long time ago, which you never checked out since then. Now that you have nothing left to do, you would like to have a look at what the community thinks of your service.\n",
    "\n",
    "Unfortunately it looks like the feedbacks page is far from perfect: each `feedback` is displayed as a one-line string, and if it's too long there's no way to see what it is about. Naturally, this horrible bug should be fixed. Implement a function that, given a `feedback` and the `size` of the screen, splits the `feedback` into lines so that:\n",
    "\n",
    "each token (i.e. sequence of non-whitespace characters) belongs to one of the lines entirely;\n",
    "each line is at most `size` characters long;\n",
    "no line has trailing or leading spaces;\n",
    "each line should have the maximum possible length, assuming that all lines before it were also the longest possible.\n",
    "### Example\n",
    "\n",
    "For `feedback = \"This is an example feedback\"` and `size = 8`,\n",
    "the output should be\n",
    "```\n",
    "solution(feedback, size) = [\"This is\", \n",
    "                            \"an\", \n",
    "                            \"example\", \n",
    "                            \"feedback\"]\n",
    "```"
   ]
  },
  {
   "cell_type": "code",
   "execution_count": null,
   "metadata": {},
   "outputs": [],
   "source": []
  },
  {
   "cell_type": "markdown",
   "metadata": {},
   "source": [
    "## 16. Is Word Palindrome"
   ]
  },
  {
   "cell_type": "markdown",
   "metadata": {},
   "source": [
    "Given a `word`, check whether it is a palindrome or not. A string is considered to be a palindrome if it reads the same in both directions.\n",
    "\n",
    "### Example\n",
    "\n",
    "For `word = \"aibohphobia\"`, the output should be\n",
    "\n",
    "`solution(word) = true`;\n",
    "\n",
    "For `word = \"hehehehehe\"`, the output should be\n",
    "\n",
    "`solution(word) = false`."
   ]
  },
  {
   "cell_type": "code",
   "execution_count": 57,
   "metadata": {},
   "outputs": [
    {
     "name": "stdout",
     "output_type": "stream",
     "text": [
      "True\n",
      "False\n"
     ]
    }
   ],
   "source": [
    "def isWordPalindrome(w):\n",
    "    return w == w[::-1]\n",
    "\n",
    "print(isWordPalindrome('aibohphobia'))\n",
    "print(isWordPalindrome('hehehehehe'))\n"
   ]
  },
  {
   "cell_type": "markdown",
   "metadata": {},
   "source": [
    "## 17. Permutation Cipher"
   ]
  },
  {
   "cell_type": "markdown",
   "metadata": {},
   "source": [
    "You found your very first laptop in the attic, and decided to give in to nostalgia and turn it on. The laptop turned out to be password protected, but you know how to crack it: you have always used the same password, but encrypt it using permutation ciphers with various keys. The key to the cipher used to protect your old laptop very conveniently happened to be written on the laptop lid.\n",
    "\n",
    "Here's how permutation cipher works: the key to it consists of all the letters of the alphabet written up in some order. All occurrences of letter 'a' in the encrypted text are substituted with the first letter of the key, all occurrences of letter 'b' are replaced with the second letter from the key, and so on, up to letter 'z' replaced with the last symbol of the key.\n",
    "\n",
    "Given the password you always use, your task is to encrypt it using the permutation cipher with the given key.\n",
    "\n",
    "Example\n",
    "\n",
    "For password = \"iamthebest\" and\n",
    "key = \"zabcdefghijklmnopqrstuvwxy\", the output should be\n",
    "solution(password, key) = \"hzlsgdadrs\".\n",
    "\n",
    "Here's a table that can be used to encrypt the text:\n",
    "\n",
    "abcdefghijklmnopqrstuvwxyz\n",
    "||  |  ||   |     || \n",
    "vv  v  vv   v     vv\n",
    "zabcdefghijklmnopqrstuvwxy"
   ]
  },
  {
   "cell_type": "markdown",
   "metadata": {},
   "source": [
    "## 18. Cometitive Eating"
   ]
  },
  {
   "cell_type": "markdown",
   "metadata": {},
   "source": [
    "## 19. New Style Formation"
   ]
  },
  {
   "cell_type": "markdown",
   "metadata": {},
   "source": [
    "## 20. Get Commit"
   ]
  },
  {
   "cell_type": "markdown",
   "metadata": {},
   "source": [
    "# 3. Lurking in Lists (5-0)"
   ]
  },
  {
   "cell_type": "markdown",
   "metadata": {},
   "source": [
    "## 21. List Multiplication\n",
    "```\n",
    "c = a*b\n",
    "c = b*a\n",
    "```\n",
    "Both are possible"
   ]
  },
  {
   "cell_type": "markdown",
   "metadata": {},
   "source": [
    "## 22. List Concatenation\n",
    "Given two lists `lst1` and `lst2`, your task is to return a list formed by the elements of `lst1` followed by the elements of `lst2`.\n",
    "\n",
    "_Note: this is a bugfix task, which means that the function is already implemented but there is a bug in one of its lines. Your task is to find and fix it._\n",
    "\n",
    "### Example\n",
    "\n",
    "For `lst1 = [2, 2, 1]` and `lst2 = [10, 11]`, the output should be\n",
    "`solution(lst1, lst2) = [2, 2, 1, 10, 11]`."
   ]
  },
  {
   "cell_type": "code",
   "execution_count": 38,
   "metadata": {},
   "outputs": [
    {
     "name": "stdout",
     "output_type": "stream",
     "text": [
      "[2, 2, 1, 10, 11]\n"
     ]
    }
   ],
   "source": [
    "def listConcatenation(l1,l2):\n",
    "    l3 = l1 + l2\n",
    "    return l3\n",
    "def listConcatenation_1(lst1, lst2):\n",
    "    res = lst1\n",
    "    res.extend(lst2)\n",
    "    return res\n",
    "\n",
    "print(listConcatenation([2,2,1],[10,11]))"
   ]
  },
  {
   "cell_type": "markdown",
   "metadata": {},
   "source": [
    "## 23. Two Teams\n",
    "There are some `students` standing in a row, each has some number written on their back. The students are about to divide into two teams by counting off by twos: those standing at the even positions (0-based) will go to team A, and those standing at the odd position will join the team B.\n",
    "\n",
    "Your task is to calculate the difference between the sums of numbers written on the backs of the students that will join team A, and those written on the backs of the students that will join team B.\n",
    "\n",
    "Example\n",
    "\n",
    "For `students = [1, 11, 13, 6, 14]`, the output should be\n",
    "`solution(students) = 11`.\n",
    "\n",
    "Students with numbers `1`, `13` and `14` will join team A, and students with numbers `11` and `6` will join team B. Thus, the answer is `(1 + 13 + 14) - (11 + 6) = 11`."
   ]
  },
  {
   "cell_type": "code",
   "execution_count": 39,
   "metadata": {},
   "outputs": [
    {
     "name": "stdout",
     "output_type": "stream",
     "text": [
      "11\n"
     ]
    }
   ],
   "source": [
    "def twoTteams(s):\n",
    "    return sum(s[::2]) - sum(s[1::2])\n",
    "\n",
    "print(twoTteams( [1, 11, 13, 6, 14]))"
   ]
  },
  {
   "cell_type": "markdown",
   "metadata": {},
   "source": [
    "## 24. Remove Tasks\n",
    "Today is a good day: it's the `kth` year since you started to work at the company, which means you have to have a party today. In order to get home earlier and prepare for the jamboree, you need to get home early. You decided to remove each `kth` tasks from your `toDo` list, since today is your day and you can do whatever you please.\n",
    "\n",
    "Given the list of task ids in your `toDo` list, remove each `kth` task from it and return the list of remaining tasks.\n",
    "\n",
    "### Example\n",
    "\n",
    "For `k = 3` and `toDo = [1237, 2847, 27485, 2947, 1, 247, 374827, 22]`,\n",
    "the output should be\n",
    "`solution(k, toDo) = [1237, 2847, 2947, 1, 374827, 22]`."
   ]
  },
  {
   "cell_type": "code",
   "execution_count": 45,
   "metadata": {},
   "outputs": [
    {
     "name": "stdout",
     "output_type": "stream",
     "text": [
      "[1237, 2847, 2947, 1, 374827, 22]\n"
     ]
    }
   ],
   "source": [
    "toDo = [1237, 2847, 27485, 2947, 1, 247, 374827, 22]\n",
    "def removeTasks(toDo, k):\n",
    "    return [i[1] for i in enumerate(toDo) if (i[0] + 1) % k != 0 ]\n",
    "\n",
    "\n",
    "def removeTasks_1(k, toDo):\n",
    "    del toDo[k - 1::k]\n",
    "    return toDo\n",
    "\n",
    "print(removeTasks(toDo, 3))"
   ]
  },
  {
   "cell_type": "markdown",
   "metadata": {},
   "source": [
    "## 25. Print List\n",
    "You were supposed to prepare a presentation about lists in Python, but totally forgot about it. Now that you don't have enough time for it, you decide to show some usage examples instead and say with the poker face that this is how you understood the assignment.\n",
    "\n",
    "Now you need to implement a function that will display a list in the console. Implement a function that, given a list `lst`, will return it as a string as follows: `\"This is your list: lst\"`.\n",
    "\n",
    "Example\n",
    "\n",
    "For `lst = [1, 2, 3, 4, 5]`, the output should be\n",
    "\n",
    "`solution(lst) = \"This is your list: [1, 2, 3, 4, 5]\"`."
   ]
  },
  {
   "cell_type": "code",
   "execution_count": 47,
   "metadata": {},
   "outputs": [
    {
     "name": "stdout",
     "output_type": "stream",
     "text": [
      "This is your list [1, 2, 3, 4, 5]\n"
     ]
    }
   ],
   "source": [
    "lst = [1, 2, 3, 4, 5]\n",
    "def printList(l):\n",
    "    print('This is your list', l)\n",
    "\n",
    "def printList_1(lst):\n",
    "    return \"This is your list: \" + str(lst)\n",
    "\n",
    "printList(lst)"
   ]
  },
  {
   "cell_type": "markdown",
   "metadata": {},
   "source": [
    "# 4. Lambda Illusions"
   ]
  },
  {
   "cell_type": "markdown",
   "metadata": {},
   "source": [
    "## 26. Repeat Char"
   ]
  },
  {
   "cell_type": "markdown",
   "metadata": {},
   "source": [
    "\n",
    "To make debug output more understandable, you often separate sets of logs by a single line of the same character. Since you use this method very often, you'd like to write a function that would handle printing the separator.\n",
    "\n",
    "Implement a function that, given a character ch and the number of times it should be repeated n, returns a string of n characters ch.\n",
    "\n",
    "Example\n",
    "\n",
    "For `ch = '*'` and `n = 20`, the output should be\n",
    "\n",
    "`solution(ch, n) = \"********************\"`."
   ]
  },
  {
   "cell_type": "code",
   "execution_count": 48,
   "metadata": {},
   "outputs": [
    {
     "name": "stdout",
     "output_type": "stream",
     "text": [
      "********************\n"
     ]
    }
   ],
   "source": [
    "def repeatChar(ch, n):\n",
    "    return ch*n\n",
    "\n",
    "repeatChar = lambda ch, n: ch*n\n",
    "\n",
    "print(repeatChar('*', 20))\n"
   ]
  },
  {
   "cell_type": "markdown",
   "metadata": {},
   "source": [
    "## 27. Get Pointq"
   ]
  },
  {
   "cell_type": "markdown",
   "metadata": {},
   "source": [
    "# 5. Complexity of Comprehension"
   ]
  },
  {
   "cell_type": "markdown",
   "metadata": {},
   "source": [
    "# 6. Fumbling in Functional"
   ]
  },
  {
   "cell_type": "markdown",
   "metadata": {},
   "source": [
    "# 7. Caravan of Collections"
   ]
  },
  {
   "cell_type": "markdown",
   "metadata": {},
   "source": [
    "# 8. Itertools Kit"
   ]
  },
  {
   "cell_type": "markdown",
   "metadata": {},
   "source": [
    "# 9. Drilling the Lists"
   ]
  },
  {
   "cell_type": "markdown",
   "metadata": {},
   "source": [
    "# 10. Yin and Yang of Yields"
   ]
  },
  {
   "cell_type": "markdown",
   "metadata": {},
   "source": [
    "# 11. Higher Order Thinking"
   ]
  },
  {
   "cell_type": "markdown",
   "metadata": {},
   "source": [
    "# 12. Showing Class"
   ]
  },
  {
   "cell_type": "markdown",
   "metadata": {},
   "source": [
    "# 13. Picturing the Parsibilities"
   ]
  },
  {
   "cell_type": "markdown",
   "metadata": {},
   "source": []
  }
 ],
 "metadata": {
  "kernelspec": {
   "display_name": "Python 3",
   "language": "python",
   "name": "python3"
  },
  "language_info": {
   "codemirror_mode": {
    "name": "ipython",
    "version": 3
   },
   "file_extension": ".py",
   "mimetype": "text/x-python",
   "name": "python",
   "nbconvert_exporter": "python",
   "pygments_lexer": "ipython3",
   "version": "3.11.5"
  }
 },
 "nbformat": 4,
 "nbformat_minor": 2
}
