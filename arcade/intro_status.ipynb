{
 "cells": [
  {
   "cell_type": "markdown",
   "metadata": {},
   "source": [
    "# Intro status"
   ]
  },
  {
   "cell_type": "code",
   "execution_count": 1,
   "metadata": {},
   "outputs": [],
   "source": [
    "import os\n",
    "import re\n",
    "\n",
    "# Define the directory path\n",
    "directory = r'C:\\Users\\Public\\Dev\\practice\\python-exercises\\code-signal\\arcade\\1. Intro (60)'\n",
    "\n",
    "# Initialize counters for different types of files\n",
    "not_explored_count = 0\n",
    "consulted_count = 0\n",
    "not_solved_count = 0\n",
    "solved_count = 0\n",
    "leave_for_next_count = 0"
   ]
  },
  {
   "cell_type": "code",
   "execution_count": 2,
   "metadata": {},
   "outputs": [],
   "source": [
    "\n",
    "# Define the regex pattern to match file names\n",
    "pattern = r'^\\d+\\.\\s*-\\s*([+]+|-)\\s*\\.py$'\n",
    "\n"
   ]
  },
  {
   "cell_type": "code",
   "execution_count": 17,
   "metadata": {},
   "outputs": [
    {
     "name": "stdout",
     "output_type": "stream",
     "text": [
      "1- -add.py\n",
      "2- -centuryFromYear.py\n",
      "3- -checkPalindrome.py\n",
      "43- isBeautifulString.py\n",
      "44- Find Email Domain.py\n",
      "45- buildPalindrome.py\n",
      "46- Elections Winners.py\n",
      "47- Is MAC48 Address.py\n",
      "48- isDigit.py\n",
      "49- lineEncoding.py\n",
      "50- chessKnight.py\n",
      "51- deleteDigit.py\n",
      "52- longestWord.py\n",
      "53- Valid Time.py\n",
      "54- sumUpNumbers.py\n",
      "55- Different Squares.py\n",
      "56- digitsProduct.py\n",
      "57- File Naming.py\n",
      "58- messageFromBinaryCode.py\n",
      "59- spiralNumbers.py\n",
      "60- Sudoku.py\n",
      "61- Horizental-ZigZag.py\n",
      "62- Vertical-ZigZag.py\n",
      "63- DiagonalMatrix.py\n",
      "4- -adjacentElementsProduct.py\n",
      "5- -shapeArea.py\n",
      "6- -Make Array Consecutive 2.py\n",
      "7- ++almostIncreasingSequence.py\n",
      "8- ++matrixElementsSum.py\n",
      "10- -commonCharacterCount.py\n",
      "11- 'isLucky.py\n",
      "12- -Sort by Height.py\n",
      "13- reverseInParentheses.py\n",
      "9- -All Longest Strings.py\n",
      "14- alternatingSums.py\n",
      "15- Add Border.py\n",
      "16- Are Similar.py\n",
      "17- arrayChange.py\n",
      "18- +-palindromeRearranging.py\n",
      "19- areEquallyStrong.py\n",
      "20- arrayMaximalAdjacentDifference.py\n",
      "21- -isIPv4Address.py\n",
      "22- +++avoidObstacles.py\n",
      "23- Box Blur.py\n",
      "24- Minesweeper.py\n",
      "25- Array Replace.py\n",
      "26- evenDigitsOnly.py\n",
      "27- variableName.py\n",
      "28- alphabeticShift.py\n",
      "29- chessBoardCellColor.py\n",
      "30- Circle of Numbers.py\n",
      "31- depositProfit.py\n",
      "32- absoluteValuesSumMinimization.py\n",
      "33- stringsRearrangement.py\n",
      "34- extractEachKth.py\n",
      "35- firstDigit.py\n",
      "36- differentSymbolsNaive.py\n",
      "37- arrayMaxConsecutiveSum.py\n",
      "38- growingPlant.py\n",
      "39- Knapsack Light.py\n",
      "40- longestDigitsPrefix.py\n",
      "41- digitDegree.py\n",
      "42- Bishop and Pawn.py\n",
      "49- lineEncoding.py\n",
      "50- chessKnight.py\n",
      "55- Different Squares.py\n",
      "57- File Naming.py\n",
      "58- messageFromBinaryCode.py\n",
      "59- spiralNumbers.py\n",
      "63- DiagonalMatrix.py\n"
     ]
    }
   ],
   "source": [
    "# pattern = r'^\\d+\\.\\s*-\\s*([+]+|-)\\s*\\.py$'\n",
    "# Define the regex pattern to match file names\n",
    "pattern = r'^\\d+\\s*-\\s.*\\.py$'\n",
    "\n",
    "# Traverse the directory and its subfolders\n",
    "for root, _, files in os.walk(directory):\n",
    "    for filename in files:\n",
    "        # Check if the file name matches the pattern\n",
    "        if re.match(pattern, filename):\n",
    "            print(filename)\n"
   ]
  },
  {
   "cell_type": "code",
   "execution_count": null,
   "metadata": {},
   "outputs": [],
   "source": [
    "\n",
    "# Traverse the directory and its subfolders\n",
    "for root, _, files in os.walk(directory):\n",
    "    for filename in files:\n",
    "        # Check if the file name matches the pattern\n",
    "        if re.match(pattern, filename):\n",
    "            match = re.match(pattern, filename)\n",
    "            type_indicator = match.group(1)\n",
    "            \n",
    "            if type_indicator == '-':\n",
    "                not_explored_count += 1\n",
    "            elif type_indicator == '-+++':\n",
    "                consulted_count += 1\n",
    "            elif type_indicator == '-+-':\n",
    "                not_solved_count += 1\n",
    "            elif type_indicator == '--':\n",
    "                solved_count += 1\n",
    "            elif type_indicator == '-++':\n",
    "                leave_for_next_count += 1\n",
    "\n",
    "# Print the counts for each type of file\n",
    "print(f'Not Explored: {not_explored_count}')\n",
    "print(f'Consulted: {consulted_count}')\n",
    "print(f'Not Solved: {not_solved_count}')\n",
    "print(f'Solved: {solved_count}')\n",
    "print(f'Leave for Next: {leave_for_next_count}')\n"
   ]
  }
 ],
 "metadata": {
  "kernelspec": {
   "display_name": "Python 3",
   "language": "python",
   "name": "python3"
  },
  "language_info": {
   "codemirror_mode": {
    "name": "ipython",
    "version": 3
   },
   "file_extension": ".py",
   "mimetype": "text/x-python",
   "name": "python",
   "nbconvert_exporter": "python",
   "pygments_lexer": "ipython3",
   "version": "3.11.5"
  }
 },
 "nbformat": 4,
 "nbformat_minor": 2
}
