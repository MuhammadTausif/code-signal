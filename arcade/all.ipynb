{
 "cells": [
  {
   "cell_type": "markdown",
   "metadata": {},
   "source": [
    "# All"
   ]
  },
  {
   "cell_type": "markdown",
   "metadata": {},
   "source": [
    "## Intro"
   ]
  },
  {
   "cell_type": "code",
   "execution_count": 1,
   "metadata": {},
   "outputs": [],
   "source": [
    "import math, re, numpy, pandas"
   ]
  },
  {
   "cell_type": "code",
   "execution_count": 2,
   "metadata": {},
   "outputs": [],
   "source": [
    "# 1.1\n",
    "s1 = lambda a, b: a + b"
   ]
  },
  {
   "cell_type": "code",
   "execution_count": null,
   "metadata": {},
   "outputs": [],
   "source": [
    "# 2.1\n",
    "s2 = lambda y: math.ceil(y / 100)"
   ]
  },
  {
   "cell_type": "code",
   "execution_count": null,
   "metadata": {},
   "outputs": [],
   "source": [
    "# 3.1\n",
    "s3 = lambda s: s[::-1] == s"
   ]
  },
  {
   "cell_type": "code",
   "execution_count": null,
   "metadata": {},
   "outputs": [],
   "source": [
    "# 4.2\n",
    "s4 = lambda y: max([a * b for a, b in zip(y[:-1], y[1:])])"
   ]
  },
  {
   "cell_type": "code",
   "execution_count": null,
   "metadata": {},
   "outputs": [],
   "source": [
    "# 5.2\n",
    "s5 = lambda n: (n - 1) ** 2 + n ** 2"
   ]
  },
  {
   "cell_type": "code",
   "execution_count": null,
   "metadata": {},
   "outputs": [],
   "source": [
    "# 6.2\n",
    "s6 = lambda s: max(s) - min(s) - len(set(s)) + 1"
   ]
  },
  {
   "cell_type": "code",
   "execution_count": null,
   "metadata": {},
   "outputs": [],
   "source": [
    "# 7.2*\n",
    "s7 = lambda s: 3 > sum((i >= j) + (i >= k) for i, j, k in zip(s, s[1:], s[2:] + [10 ** 6]))"
   ]
  },
  {
   "cell_type": "code",
   "execution_count": null,
   "metadata": {},
   "outputs": [],
   "source": [
    "# 8.2\n",
    "s8 = lambda x: sum( x[0] + list(map(sum, [[x[i][j] for j in range(len(x[i])) if x[i - 1][j] != 0] for i in range(1, len(x))])))"
   ]
  },
  {
   "cell_type": "code",
   "execution_count": null,
   "metadata": {},
   "outputs": [],
   "source": [
    "# 9.3\n",
    "s9 = lambda y: [i for i in y if len(i) == len(max(y, key=len))]"
   ]
  },
  {
   "cell_type": "code",
   "execution_count": null,
   "metadata": {},
   "outputs": [],
   "source": [
    "# 10.3\n",
    "s10 = lambda s1, s2: sum([min(s1.count(i), s2.count(i)) for i in set(s1)])"
   ]
  },
  {
   "cell_type": "code",
   "execution_count": null,
   "metadata": {},
   "outputs": [],
   "source": [
    "# 11.3\n",
    "s11 = lambda n: sum(list(map(int, str(n)[:int(len(str(n)) // 2)]))) == sum(list(map(int, str(n)[int(len(str(n)) // 2):])))"
   ]
  },
  {
   "cell_type": "code",
   "execution_count": null,
   "metadata": {},
   "outputs": [],
   "source": [
    "# 12.3\n"
   ]
  },
  {
   "cell_type": "code",
   "execution_count": null,
   "metadata": {},
   "outputs": [],
   "source": [
    "\n",
    "# 13.3*\n",
    "s13 = lambda s: eval('\"' + s.replace('(', '\"+(\"').replace(')', '\")[::-1]+\"') + '\"')\n",
    "# 14.4\n",
    "s14 = lambda a: [sum(a[::2]), sum(a[1::2])]\n",
    "# 15.4*\n",
    "s15 = lambda p: [\"*\" * (len(p[0]) + 2)] + [\"*\" + i + \"*\" for i in p] + [\"*\" * (len(p[0]) + 2)]\n",
    "# 16.4*\n",
    "s16 = lambda A, B: sorted(A) == sorted(B) and sum([a != b for a, b in zip(A, B)]) <= 2\n",
    "# 17.4\n",
    "\n",
    "# 18.4\n",
    "\n",
    "# 19.5\n",
    "\n",
    "# 20.5*\n",
    "s20 = lambda a: max([abs(a[i]-a[i+1]) for i in range(len(a)-1)])\n",
    "# 21.5\n",
    "s21 = lambda s: len(s.split('.')) == 4 and all([n.isdigit() and 0 <= int(n) < 256 for n in s.split('.')])\n",
    "# 22.5*\n",
    "s22 = lambda ia: min([i for i in range(2, max(ia)+2) if all([j%i!=0 for j in ia])])\n",
    "# 23.5*\n",
    "s23 = lambda image: [[int(sum(sum(x[i:i + 3]) for x in image[j:j + 3]) / 9) for i in range(len(image[j]) - 2)] for j in\n",
    "                     range(len(image) - 2)]\n",
    "# 24.5\n",
    "\n",
    "# 25.6*\n",
    "s25 = lambda i, e, s: [x if x != e else s for x in i]\n",
    "# 26.6*\n",
    "s26 = lambda n: all(int(d) % 2 == 0 for d in str(n))\n",
    "# 27.6*\n",
    "s27 = lambda n: n.isidentifier()\n",
    "# 28.6*\n",
    "s28 = lambda s: \"\".join(chr((ord(i)-96)%26+97) for i in s)\n",
    "# 29.6*\n",
    "s29 = lambda c1, c2: (ord(c1[0])+int(c1[1])+ord(c2[0])+int(c2[1])) % 2 == 0\n",
    "# 30.7*\n",
    "s30 = lambda n, fn: (fn + n/2) % n\n",
    "# 31.7*\n",
    "s31 = lambda d, r, t: math.ceil(math.log(t/d, 1+r/100))\n",
    "# 32.7*\n",
    "s32 = lambda a: a[(len(a)-1)//2]\n",
    "# 33.7*\n",
    "\n",
    "# 34.8*\n",
    "s34_8 = lambda ia, k: [i for (n,i) in enumerate(ia) if (n+1) % k != 0]\n",
    "# 35.8*\n",
    "\n",
    "# 36.8*\n",
    "s36_8 = 1\n",
    "# 37.8*\n",
    "\n",
    "# 38.9*\n",
    "s38 = lambda upSpeed, downSpeed, desiredHeight: 1 if desiredHeight <= upSpeed else (desiredHeight - upSpeed - 1) // ( upSpeed - downSpeed) + 2\n",
    "# 39.9*\n",
    "s39 = lambda v1, w1, v2, w2, maxW: max((w1 + w2 <= maxW) * (v1 + v2), (w1 <= maxW) * v1, (w2 <= maxW) * v2)\n",
    "# 40.9*\n",
    "s40 = lambda i: re.findall('^\\d*', i)[0]\n",
    "# 41.9\n",
    "def s41(m, d = 0):\n",
    "    while len(str(sum(list(map(int, str(m)))))) > 1: m = str(sum(list(map(int, str(m))))); d =d + 1\n",
    "    return d\n",
    "# 42.9*\n",
    "s42 = lambda b, p: abs(ord(b[0]) - ord(p[0])) == abs(ord(b[1]) - ord(p[1]))\n",
    "# 43.10\n",
    "\n",
    "# 44\n",
    "\n",
    "# 45\n",
    "\n",
    "# 46\n",
    "\n",
    "# 47\n",
    "\n",
    "# 48.11\n",
    "s48 = lambda s: s.isdigit()\n",
    "# 49\n",
    "\n",
    "# 50\n",
    "\n",
    "# 51.11*\n",
    "s51 = lambda n: max([int(str(n)[:i] + str(n)[i+1:]) for i in range(len(str(n)))])\n",
    "# 52.12*\n",
    "s52 = lambda text: max(re.split('[^a-zA-Z]', text), key=len)\n",
    "# 53\n",
    "\n",
    "# 54\n",
    "\n",
    "# 55\n",
    "\n",
    "# 56\n",
    "\n",
    "# 57\n",
    "\n",
    "# 58\n",
    "\n",
    "# 59\n",
    "\n",
    "# 60\n",
    "\n",
    "# 61\n",
    "\n",
    "# 62\n",
    "\n",
    "# 63\n"
   ]
  }
 ],
 "metadata": {
  "kernelspec": {
   "display_name": "Python 3",
   "language": "python",
   "name": "python3"
  },
  "language_info": {
   "codemirror_mode": {
    "name": "ipython",
    "version": 3
   },
   "file_extension": ".py",
   "mimetype": "text/x-python",
   "name": "python",
   "nbconvert_exporter": "python",
   "pygments_lexer": "ipython3",
   "version": "3.11.5"
  }
 },
 "nbformat": 4,
 "nbformat_minor": 2
}
