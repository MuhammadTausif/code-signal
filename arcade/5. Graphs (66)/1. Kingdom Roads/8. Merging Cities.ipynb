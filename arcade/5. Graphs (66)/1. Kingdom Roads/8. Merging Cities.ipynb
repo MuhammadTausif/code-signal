{
 "cells": [
  {
   "cell_type": "markdown",
   "metadata": {},
   "source": [
    "# Merging Cities\n"
   ]
  },
  {
   "cell_type": "markdown",
   "metadata": {},
   "source": [
    "Once upon a time, in a kingdom far, far away, there lived a King Byteasar VIII. The king went down in history as a great warrior, since he managed to defeat a longtime enemy that had been capturing the kingdom's cities for more than a century. When the war was over, most of the cities were almost completely destroyed, so Byteasar decided to create new cities by merging them.\n",
    "\n",
    "The king decided to merge each pair of cities cityi, cityi+1 for i = 0, 2, 4, ... if they were connected by one of the two-way roads running through the kingdom.\n",
    "\n",
    "Initially, all information about the roads was stored in the roadRegister. Your task is to return the roadRegister after the merging is performed, assuming that after merging the cities re-indexation is done in such way that any city formed from cities a and b (where a < b) receives index a, and all the cities with numbers i (where i > b) get numbers i - 1.\n",
    "\n",
    "\n",
    "### Example\n",
    "\n",
    "For\n",
    "\n",
    "    roadRegister = [\n",
    "    [false, true,  true,  false, false, false, true ],\n",
    "    [true,  false, true,  false, true,  false, false],\n",
    "    [true,  true,  false, true,  false, false, true ],\n",
    "    [false, false, true,  false, false, true,  true ],\n",
    "    [false, true,  false, false, false, false, false],\n",
    "    [false, false, false, true,  false, false, false],\n",
    "    [true,  false, true,  true,  false, false, false]\n",
    "    ]\n",
    "\n",
    "the output should be\n",
    "\n",
    "    solution(roadRegister) = [\n",
    "    [false, true,  true,  false, true ],\n",
    "    [true,  false, false, true,  true ],\n",
    "    [true,  false, false, false, false],\n",
    "    [false, true,  false, false, false],\n",
    "    [true,  true,  false, false, false]\n",
    "    ]"
   ]
  },
  {
   "cell_type": "code",
   "execution_count": 1,
   "metadata": {},
   "outputs": [],
   "source": [
    "def solution(roadRegister):\n",
    "    n = len(roadRegister)\n",
    "    merged = [False] * n\n",
    "\n",
    "    # Create a new road register with the size adjusted for merged cities\n",
    "    new_size = n\n",
    "    for i in range(0, n, 2):\n",
    "        if i + 1 < n and roadRegister[i][i + 1]:\n",
    "            new_size -= 1\n",
    "            \n",
    "    new_roadRegister = [[False] * new_size for _ in range(new_size)]\n",
    "    \n",
    "    # Map old indices to new indices\n",
    "    old_to_new = {}\n",
    "    new_index = 0\n",
    "    \n",
    "    i = 0\n",
    "    while i < n:\n",
    "        if i + 1 < n and roadRegister[i][i + 1]:\n",
    "            # Merge city i and city i + 1\n",
    "            old_to_new[i] = new_index\n",
    "            old_to_new[i + 1] = new_index\n",
    "            new_index += 1\n",
    "            i += 2\n",
    "        else:\n",
    "            old_to_new[i] = new_index\n",
    "            new_index += 1\n",
    "            i += 1\n",
    "\n",
    "    # Fill the new road register based on the old one\n",
    "    for i in range(n):\n",
    "        for j in range(i + 1, n):\n",
    "            if roadRegister[i][j]:\n",
    "                new_i = old_to_new[i]\n",
    "                new_j = old_to_new[j]\n",
    "                if new_i != new_j:\n",
    "                    new_roadRegister[new_i][new_j] = True\n",
    "                    new_roadRegister[new_j][new_i] = True\n",
    "\n",
    "    return new_roadRegister\n",
    "\n"
   ]
  }
 ],
 "metadata": {
  "kernelspec": {
   "display_name": "Python 3",
   "language": "python",
   "name": "python3"
  },
  "language_info": {
   "codemirror_mode": {
    "name": "ipython",
    "version": 3
   },
   "file_extension": ".py",
   "mimetype": "text/x-python",
   "name": "python",
   "nbconvert_exporter": "python",
   "pygments_lexer": "ipython3",
   "version": "3.11.5"
  }
 },
 "nbformat": 4,
 "nbformat_minor": 2
}
