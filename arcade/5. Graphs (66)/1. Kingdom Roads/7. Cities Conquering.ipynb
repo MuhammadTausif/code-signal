{
 "cells": [
  {
   "cell_type": "markdown",
   "metadata": {
    "vscode": {
     "languageId": "latex"
    }
   },
   "source": [
    "# Problem\n",
    "Once upon a time, in a kingdom far, far away, there lived a King Byteasar VII. Since he reigned during the Dark Times, very little is known about his reign. It is known that when he ascended the throne, there were n cities in the kingdom, connected by several two-way roads. But before the young king managed to start ruling, an enemy arrived at the gates: the evil emperor Bugoleon invaded the kingdom and started to conquer the cities, advancing day after day.\n",
    "\n",
    "It is not known how long it took to capture each of the cities, but you've recently discovered an ancient manuscript describing that each day, Bugoleon captured all the cities that had at most 1 neighboring free city at that given moment. Knowing this fact, the number of cities n and all the roads of the kingdom, determine in how many days each of the cities was conquered.\n",
    "\n",
    "Example\n",
    "\n",
    "For n = 10 and\n",
    "\n",
    "roads = [[1, 0], [1, 2], [8, 5], [9, 7], \n",
    "         [5, 6], [5, 4], [4, 6], [6, 7]]\n",
    "the output should be\n",
    "solution(n, roads) = [1, 2, 1, 1, -1, -1, -1, 2, 1, 1].\n"
   ]
  },
  {
   "cell_type": "markdown",
   "metadata": {},
   "source": [
    "## Solution"
   ]
  },
  {
   "cell_type": "markdown",
   "metadata": {},
   "source": [
    "To solve this problem, we need to simulate the process of cities being captured day by day based on the given rules. The main idea is to keep track of the cities that have been conquered and the ones that are free, and update the status of the cities at each step until all possible cities are captured.\n",
    "\n",
    "### Steps to Solve the Problem:\n",
    "\n",
    "1. **Initialize Data Structures**:\n",
    "   - Use a list `days_to_conquer` initialized with -1 to store the number of days it took to conquer each city.\n",
    "   - Use a list `neighbors` to store the neighboring cities for each city.\n",
    "   - Use a set `free_cities` to keep track of cities that have not yet been conquered.\n",
    "\n",
    "2. **Build the Adjacency List**:\n",
    "   - Iterate over the given roads to build the adjacency list representation of the graph.\n",
    "\n",
    "3. **Simulate the Conquest**:\n",
    "   - Initialize a day counter.\n",
    "   - Identify and process cities that have at most one neighboring free city.\n",
    "   - Update the `days_to_conquer` list and the `free_cities` set accordingly.\n",
    "   - Repeat the process until no more cities can be conquered.\n",
    "\n",
    "4. **Return the Result**:\n",
    "   - After the simulation is complete, the `days_to_conquer` list will contain the number of days it took to conquer each city or -1 for cities that weren't conquered.\n",
    "\n",
    "Here is the Python code implementing the above approach:\n",
    "\n",
    "```\n",
    "def solution(n, roads):\n",
    "    # Initialize the result list with -1, meaning not conquered yet\n",
    "    days_to_conquer = [-1] * n\n",
    "    # Adjacency list to keep track of neighbors\n",
    "    neighbors = [[] for _ in range(n)]\n",
    "    # Populate the adjacency list\n",
    "    for road in roads:\n",
    "        neighbors[road[0]].append(road[1])\n",
    "        neighbors[road[1]].append(road[0])\n",
    "    \n",
    "    # Set of all free cities\n",
    "    free_cities = set(range(n))\n",
    "    day = 1\n",
    "    \n",
    "    while True:\n",
    "        # List of cities to be conquered on the current day\n",
    "        to_conquer = []\n",
    "        \n",
    "        # Identify cities to be conquered today\n",
    "        for city in free_cities:\n",
    "            # Count the number of neighboring free cities\n",
    "            free_neighbors_count = sum(1 for neighbor in neighbors[city] if neighbor in free_cities)\n",
    "            if free_neighbors_count <= 1:\n",
    "                to_conquer.append(city)\n",
    "        \n",
    "        if not to_conquer:\n",
    "            break\n",
    "        \n",
    "        # Mark these cities as conquered and record the day\n",
    "        for city in to_conquer:\n",
    "            days_to_conquer[city] = day\n",
    "            free_cities.remove(city)\n",
    "        \n",
    "        day += 1\n",
    "    \n",
    "    return days_to_conquer\n",
    "\n",
    "# Example usage\n",
    "print(solution(10, [[1, 0], [1, 2], [8, 5], [9, 7], \n",
    "                    [5, 6], [5, 4], [4, 6], [6, 7]]))\n",
    "# Expected output: [1, 2, 1, 1, -1, -1, -1, 2, 1, 1]\n",
    "```\n",
    "\n",
    "### Explanation of the Code:\n",
    "\n",
    "1. **Initialization**:\n",
    "   - The `days_to_conquer` list is initialized with -1 to indicate that no city is conquered initially.\n",
    "   - The `neighbors` list is built to represent the graph as an adjacency list.\n",
    "\n",
    "2. **Simulation**:\n",
    "   - For each day, we determine which cities can be conquered based on the rule of having at most one neighboring free city.\n",
    "   - We update the `days_to_conquer` list with the current day for the cities that are conquered and remove them from the `free_cities` set.\n",
    "   - The process repeats until no more cities can be conquered in a day.\n",
    "\n",
    "This algorithm efficiently simulates the capture of cities day by day and provides the required output."
   ]
  },
  {
   "cell_type": "markdown",
   "metadata": {},
   "source": []
  }
 ],
 "metadata": {
  "language_info": {
   "name": "python"
  }
 },
 "nbformat": 4,
 "nbformat_minor": 2
}
