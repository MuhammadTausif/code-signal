{
 "cells": [
  {
   "cell_type": "markdown",
   "metadata": {},
   "source": [
    "## Smaller and Larger\n",
    "\n",
    "Given a sorted array Arr of size N and a value X, find the number of array elements less than or equal to X and elements more than or equal to X. \n",
    "\n",
    "### Example 1:\n",
    "```\n",
    "Input:\n",
    "N = 7, X = 0\n",
    "Arr[] = {1, 2, 8, 10, 11, 12, 19}\n",
    "Output: 0 7\n",
    "Explanation: There are no elements less or\n",
    "equal to 0 and 7 elements greater or equal\n",
    "to 0.\n",
    "```\n",
    "\n",
    "\n",
    "### Example 2:\n",
    "```\n",
    "Input:\n",
    "N = 7, X = 5\n",
    "Arr[] = {1, 2, 8, 10, 11, 12, 19}\n",
    "Output: 2 5\n",
    "Explanation: There are 2 elements less or\n",
    "equal to 5 and 5 elements greater or equal\n",
    "to 5.\n",
    "```\n",
    "\n",
    "### Your Task:\n",
    "You don't need to read input or print anything. Your task is to complete the function getMoreAndLess() which takes the array of integers arr, n and x as parameters and returns an array of size 2. pair denoting the answer. The first value is number of elements less than or equal to x and the second value is number of elements more than or equal to x.\n",
    "\n",
    "**Expected Time Complexity: O(logN)**\n",
    "\n",
    "**Expected Auxiliary Space: O(1)**\n",
    "\n",
    "#### Constraints:\n",
    "```\n",
    "1 ≤ N ≤ 105\n",
    "0 ≤ X ≤ 106\n",
    "1 ≤ Arr[i] ≤ 106\n",
    "```"
   ]
  },
  {
   "cell_type": "code",
   "execution_count": null,
   "metadata": {},
   "outputs": [],
   "source": [
    "class Solution:\n",
    "\n",
    "    def getMoreAndLess(self,arr, n, x):\n",
    "            # two variables to keep smaller and larger elements\n",
    "            smaller, larger = 0, 0\n",
    "            for num in arr:\n",
    "                if num <= x:\n",
    "                    smaller += 1\n",
    "                if num >= x:\n",
    "                    larger += 1\n",
    "            return [smaller, larger] "
   ]
  }
 ],
 "metadata": {
  "language_info": {
   "name": "python"
  }
 },
 "nbformat": 4,
 "nbformat_minor": 2
}
