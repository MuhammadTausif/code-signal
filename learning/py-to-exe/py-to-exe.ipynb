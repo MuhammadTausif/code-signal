{
 "cells": [
  {
   "cell_type": "code",
   "execution_count": 1,
   "metadata": {
    "collapsed": true
   },
   "outputs": [
    {
     "name": "stdout",
     "output_type": "stream",
     "text": [
      "Collecting auto-py-to-exe\n",
      "  Downloading auto_py_to_exe-2.29.0-py2.py3-none-any.whl (105 kB)\n",
      "     ------------------------------------ 105.0/105.0 kB 163.7 kB/s eta 0:00:00\n",
      "Collecting Eel==0.14.0\n",
      "  Downloading Eel-0.14.0.tar.gz (17 kB)\n",
      "  Preparing metadata (setup.py): started\n",
      "  Preparing metadata (setup.py): finished with status 'done'\n",
      "Collecting pyinstaller>=4.6\n",
      "  Downloading pyinstaller-5.7.0-py3-none-win_amd64.whl (1.3 MB)\n",
      "     ---------------------------------------- 1.3/1.3 MB 238.8 kB/s eta 0:00:00\n",
      "Collecting bottle\n",
      "  Downloading bottle-0.12.23-py3-none-any.whl (90 kB)\n",
      "     -------------------------------------- 90.1/90.1 kB 284.3 kB/s eta 0:00:00\n",
      "Collecting bottle-websocket\n",
      "  Downloading bottle-websocket-0.2.9.tar.gz (2.0 kB)\n",
      "  Preparing metadata (setup.py): started\n",
      "  Preparing metadata (setup.py): finished with status 'done'\n",
      "Collecting future\n",
      "  Downloading future-0.18.3.tar.gz (840 kB)\n",
      "     ------------------------------------ 840.9/840.9 kB 239.5 kB/s eta 0:00:00\n",
      "  Preparing metadata (setup.py): started\n",
      "  Preparing metadata (setup.py): finished with status 'done'\n",
      "Requirement already satisfied: pyparsing in c:\\users\\hp\\appdata\\roaming\\python\\python311\\site-packages (from Eel==0.14.0->auto-py-to-exe) (3.0.9)\n",
      "Collecting whichcraft\n",
      "  Downloading whichcraft-0.6.1-py2.py3-none-any.whl (5.2 kB)\n",
      "Requirement already satisfied: setuptools>=42.0.0 in c:\\python311\\lib\\site-packages (from pyinstaller>=4.6->auto-py-to-exe) (65.5.0)\n",
      "Collecting altgraph\n",
      "  Downloading altgraph-0.17.3-py2.py3-none-any.whl (21 kB)\n",
      "Collecting pyinstaller-hooks-contrib>=2021.4\n",
      "  Downloading pyinstaller_hooks_contrib-2022.15-py2.py3-none-any.whl (253 kB)\n",
      "     ------------------------------------ 254.0/254.0 kB 216.7 kB/s eta 0:00:00\n",
      "Collecting pefile>=2022.5.30\n",
      "  Downloading pefile-2022.5.30.tar.gz (72 kB)\n",
      "     -------------------------------------- 72.9/72.9 kB 308.6 kB/s eta 0:00:00\n",
      "  Preparing metadata (setup.py): started\n",
      "  Preparing metadata (setup.py): finished with status 'done'\n",
      "Collecting pywin32-ctypes>=0.2.0\n",
      "  Downloading pywin32_ctypes-0.2.0-py2.py3-none-any.whl (28 kB)\n",
      "Collecting gevent-websocket\n",
      "  Downloading gevent_websocket-0.10.1-py3-none-any.whl (22 kB)\n",
      "Collecting gevent\n",
      "  Downloading gevent-22.10.2-cp311-cp311-win_amd64.whl (1.5 MB)\n",
      "     ---------------------------------------- 1.5/1.5 MB 113.9 kB/s eta 0:00:00\n",
      "Collecting zope.event\n",
      "  Downloading zope.event-4.6-py2.py3-none-any.whl (6.8 kB)\n",
      "Collecting zope.interface\n",
      "  Downloading zope.interface-5.5.2-cp311-cp311-win_amd64.whl (211 kB)\n",
      "     ------------------------------------- 211.7/211.7 kB 65.8 kB/s eta 0:00:00\n",
      "Collecting greenlet>=2.0.0\n",
      "  Downloading greenlet-2.0.2-cp311-cp311-win_amd64.whl (192 kB)\n",
      "     ------------------------------------- 192.5/192.5 kB 71.1 kB/s eta 0:00:00\n",
      "Requirement already satisfied: cffi>=1.12.2 in c:\\python311\\lib\\site-packages (from gevent->gevent-websocket->bottle-websocket->Eel==0.14.0->auto-py-to-exe) (1.15.1)\n",
      "Requirement already satisfied: pycparser in c:\\python311\\lib\\site-packages (from cffi>=1.12.2->gevent->gevent-websocket->bottle-websocket->Eel==0.14.0->auto-py-to-exe) (2.21)\n",
      "Installing collected packages: whichcraft, pywin32-ctypes, bottle, altgraph, zope.interface, zope.event, pyinstaller-hooks-contrib, greenlet, future, pefile, gevent, pyinstaller, gevent-websocket, bottle-websocket, Eel, auto-py-to-exe\n",
      "Note: you may need to restart the kernel to use updated packages.\n"
     ]
    },
    {
     "name": "stderr",
     "output_type": "stream",
     "text": [
      "ERROR: Could not install packages due to an OSError: [Errno 13] Permission denied: 'C:\\\\Python311\\\\Scripts\\\\bottle.py'\n",
      "Consider using the `--user` option or check the permissions.\n",
      "\n",
      "\n",
      "[notice] A new release of pip available: 22.3.1 -> 23.0\n",
      "[notice] To update, run: python.exe -m pip install --upgrade pip\n"
     ]
    }
   ],
   "source": [
    "!pip install auto-py-to-exe"
   ]
  },
  {
   "cell_type": "code",
   "execution_count": 2,
   "outputs": [
    {
     "ename": "NameError",
     "evalue": "name 'auto' is not defined",
     "output_type": "error",
     "traceback": [
      "\u001B[1;31m---------------------------------------------------------------------------\u001B[0m",
      "\u001B[1;31mNameError\u001B[0m                                 Traceback (most recent call last)",
      "Cell \u001B[1;32mIn [2], line 1\u001B[0m\n\u001B[1;32m----> 1\u001B[0m \u001B[43mauto\u001B[49m\u001B[38;5;241m-\u001B[39mpy\u001B[38;5;241m-\u001B[39mto\u001B[38;5;241m-\u001B[39mexe\n",
      "\u001B[1;31mNameError\u001B[0m: name 'auto' is not defined"
     ]
    }
   ],
   "source": [],
   "metadata": {
    "collapsed": false
   }
  },
  {
   "cell_type": "code",
   "execution_count": null,
   "outputs": [],
   "source": [],
   "metadata": {
    "collapsed": false
   }
  }
 ],
 "metadata": {
  "kernelspec": {
   "display_name": "Python 3",
   "language": "python",
   "name": "python3"
  },
  "language_info": {
   "codemirror_mode": {
    "name": "ipython",
    "version": 2
   },
   "file_extension": ".py",
   "mimetype": "text/x-python",
   "name": "python",
   "nbconvert_exporter": "python",
   "pygments_lexer": "ipython2",
   "version": "2.7.6"
  }
 },
 "nbformat": 4,
 "nbformat_minor": 0
}
