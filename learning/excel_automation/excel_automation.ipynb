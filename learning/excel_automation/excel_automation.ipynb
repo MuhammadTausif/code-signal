{
 "cells": [
  {
   "cell_type": "code",
   "execution_count": 1,
   "metadata": {
    "collapsed": true
   },
   "outputs": [],
   "source": [
    "import openpyxl as openpyxl\n",
    "\n"
   ]
  },
  {
   "cell_type": "code",
   "execution_count": 3,
   "outputs": [],
   "source": [
    "# @Email:  contact@pythonandvba.com\n",
    "# @Website:  https://pythonandvba.com\n",
    "# @YouTube:  https://youtube.com/c/CodingIsFun\n",
    "# @Project:  Sales Dashboard w/ Streamlit\n",
    "\n",
    "\n",
    "\n",
    "import pandas as pd  # pip install pandas openpyxl\n",
    "import plotly.express as px  # pip install plotly-express\n",
    "import streamlit as st  # pip install streamlit"
   ],
   "metadata": {
    "collapsed": false
   }
  },
  {
   "cell_type": "code",
   "execution_count": 4,
   "outputs": [],
   "source": [
    "\n",
    "# emojis: https://www.webfx.com/tools/emoji-cheat-sheet/\n",
    "st.set_page_config(page_title=\"Sales Dashboard\", page_icon=\":bar_chart:\", layout=\"wide\")"
   ],
   "metadata": {
    "collapsed": false
   }
  },
  {
   "cell_type": "code",
   "execution_count": 5,
   "outputs": [],
   "source": [
    "\n",
    "# ---- READ EXCEL ----\n",
    "@st.cache\n",
    "def get_data_from_excel():\n",
    "    df = pd.read_excel(\n",
    "        io=\"supermarkt_sales.xlsx\",\n",
    "        engine=\"openpyxl\",\n",
    "        sheet_name=\"Sales\",\n",
    "        skiprows=3,\n",
    "        usecols=\"B:R\",\n",
    "        nrows=1000,\n",
    "    )\n",
    "    # Add 'hour' column to dataframe\n",
    "    df[\"hour\"] = pd.to_datetime(df[\"Time\"], format=\"%H:%M:%S\").dt.hour\n",
    "    return df"
   ],
   "metadata": {
    "collapsed": false
   }
  },
  {
   "cell_type": "code",
   "execution_count": 6,
   "outputs": [
    {
     "ename": "InternalHashError",
     "evalue": "module '__main__' has no attribute '__file__'\n\nWhile caching the body of `get_data_from_excel()`, Streamlit encountered an\nobject of type `builtins.function`, which it does not know how to hash.\n\n**In this specific case, it's very likely you found a Streamlit bug so please\n[file a bug report here.]\n(https://github.com/streamlit/streamlit/issues/new/choose)**\n\nIn the meantime, you can try bypassing this error by registering a custom\nhash function via the `hash_funcs` keyword in @st.cache(). For example:\n\n```\n@st.cache(hash_funcs={builtins.function: my_hash_func})\ndef my_func(...):\n    ...\n```\n\nIf you don't know where the object of type `builtins.function` is coming\nfrom, try looking at the hash chain below for an object that you do recognize,\nthen pass that to `hash_funcs` instead:\n\n```\nObject of type builtins.function: <function get_data_from_excel at 0x000001FA0EB01120>\n```\n\nPlease see the `hash_funcs` [documentation](https://docs.streamlit.io/library/advanced-features/caching#the-hash_funcs-parameter)\nfor more details.\n            ",
     "output_type": "error",
     "traceback": [
      "\u001B[1;31m---------------------------------------------------------------------------\u001B[0m",
      "\u001B[1;31mAttributeError\u001B[0m                            Traceback (most recent call last)",
      "File \u001B[1;32mC:\\Python311\\Lib\\site-packages\\streamlit\\runtime\\legacy_caching\\hashing.py:360\u001B[0m, in \u001B[0;36m_CodeHasher.to_bytes\u001B[1;34m(self, obj, context)\u001B[0m\n\u001B[0;32m    358\u001B[0m \u001B[38;5;28;01mtry\u001B[39;00m:\n\u001B[0;32m    359\u001B[0m     \u001B[38;5;66;03m# Hash the input\u001B[39;00m\n\u001B[1;32m--> 360\u001B[0m     b \u001B[38;5;241m=\u001B[39m \u001B[38;5;124mb\u001B[39m\u001B[38;5;124m\"\u001B[39m\u001B[38;5;132;01m%s\u001B[39;00m\u001B[38;5;124m:\u001B[39m\u001B[38;5;132;01m%s\u001B[39;00m\u001B[38;5;124m\"\u001B[39m \u001B[38;5;241m%\u001B[39m (tname, \u001B[38;5;28;43mself\u001B[39;49m\u001B[38;5;241;43m.\u001B[39;49m\u001B[43m_to_bytes\u001B[49m\u001B[43m(\u001B[49m\u001B[43mobj\u001B[49m\u001B[43m,\u001B[49m\u001B[43m \u001B[49m\u001B[43mcontext\u001B[49m\u001B[43m)\u001B[49m)\n\u001B[0;32m    362\u001B[0m     \u001B[38;5;66;03m# Hmmm... It's possible that the size calculation is wrong. When we\u001B[39;00m\n\u001B[0;32m    363\u001B[0m     \u001B[38;5;66;03m# call to_bytes inside _to_bytes things get double-counted.\u001B[39;00m\n",
      "File \u001B[1;32mC:\\Python311\\Lib\\site-packages\\streamlit\\runtime\\legacy_caching\\hashing.py:626\u001B[0m, in \u001B[0;36m_CodeHasher._to_bytes\u001B[1;34m(self, obj, context)\u001B[0m\n\u001B[0;32m    625\u001B[0m \u001B[38;5;28;01massert\u001B[39;00m code \u001B[38;5;129;01mis\u001B[39;00m \u001B[38;5;129;01mnot\u001B[39;00m \u001B[38;5;28;01mNone\u001B[39;00m\n\u001B[1;32m--> 626\u001B[0m \u001B[38;5;28;01mif\u001B[39;00m \u001B[38;5;28;43mself\u001B[39;49m\u001B[38;5;241;43m.\u001B[39;49m\u001B[43m_file_should_be_hashed\u001B[49m\u001B[43m(\u001B[49m\u001B[43mcode\u001B[49m\u001B[38;5;241;43m.\u001B[39;49m\u001B[43mco_filename\u001B[49m\u001B[43m)\u001B[49m:\n\u001B[0;32m    627\u001B[0m     context \u001B[38;5;241m=\u001B[39m _get_context(obj)\n",
      "File \u001B[1;32mC:\\Python311\\Lib\\site-packages\\streamlit\\runtime\\legacy_caching\\hashing.py:402\u001B[0m, in \u001B[0;36m_CodeHasher._file_should_be_hashed\u001B[1;34m(self, filename)\u001B[0m\n\u001B[0;32m    400\u001B[0m     \u001B[38;5;28;01mreturn\u001B[39;00m \u001B[38;5;28;01mFalse\u001B[39;00m\n\u001B[0;32m    401\u001B[0m \u001B[38;5;28;01mreturn\u001B[39;00m file_util\u001B[38;5;241m.\u001B[39mfile_is_in_folder_glob(\n\u001B[1;32m--> 402\u001B[0m     filepath, \u001B[38;5;28;43mself\u001B[39;49m\u001B[38;5;241;43m.\u001B[39;49m\u001B[43m_get_main_script_directory\u001B[49m\u001B[43m(\u001B[49m\u001B[43m)\u001B[49m\n\u001B[0;32m    403\u001B[0m ) \u001B[38;5;129;01mor\u001B[39;00m file_util\u001B[38;5;241m.\u001B[39mfile_in_pythonpath(filepath)\n",
      "File \u001B[1;32mC:\\Python311\\Lib\\site-packages\\streamlit\\runtime\\legacy_caching\\hashing.py:714\u001B[0m, in \u001B[0;36m_CodeHasher._get_main_script_directory\u001B[1;34m()\u001B[0m\n\u001B[0;32m    712\u001B[0m \u001B[38;5;66;03m# This works because we set __main__.__file__ to the\u001B[39;00m\n\u001B[0;32m    713\u001B[0m \u001B[38;5;66;03m# script path in ScriptRunner.\u001B[39;00m\n\u001B[1;32m--> 714\u001B[0m abs_main_path \u001B[38;5;241m=\u001B[39m pathlib\u001B[38;5;241m.\u001B[39mPath(\u001B[43m__main__\u001B[49m\u001B[38;5;241;43m.\u001B[39;49m\u001B[38;5;18;43m__file__\u001B[39;49m)\u001B[38;5;241m.\u001B[39mresolve()\n\u001B[0;32m    715\u001B[0m \u001B[38;5;28;01mreturn\u001B[39;00m \u001B[38;5;28mstr\u001B[39m(abs_main_path\u001B[38;5;241m.\u001B[39mparent)\n",
      "\u001B[1;31mAttributeError\u001B[0m: module '__main__' has no attribute '__file__'",
      "\nDuring handling of the above exception, another exception occurred:\n",
      "\u001B[1;31mInternalHashError\u001B[0m                         Traceback (most recent call last)",
      "Cell \u001B[1;32mIn [6], line 1\u001B[0m\n\u001B[1;32m----> 1\u001B[0m df \u001B[38;5;241m=\u001B[39m \u001B[43mget_data_from_excel\u001B[49m\u001B[43m(\u001B[49m\u001B[43m)\u001B[49m\n",
      "File \u001B[1;32mC:\\Python311\\Lib\\site-packages\\streamlit\\runtime\\legacy_caching\\caching.py:627\u001B[0m, in \u001B[0;36mcache.<locals>.wrapped_func\u001B[1;34m(*args, **kwargs)\u001B[0m\n\u001B[0;32m    625\u001B[0m \u001B[38;5;28;01mif\u001B[39;00m show_spinner:\n\u001B[0;32m    626\u001B[0m     \u001B[38;5;28;01mwith\u001B[39;00m spinner(message):\n\u001B[1;32m--> 627\u001B[0m         \u001B[38;5;28;01mreturn\u001B[39;00m \u001B[43mget_or_create_cached_value\u001B[49m\u001B[43m(\u001B[49m\u001B[43m)\u001B[49m\n\u001B[0;32m    628\u001B[0m \u001B[38;5;28;01melse\u001B[39;00m:\n\u001B[0;32m    629\u001B[0m     \u001B[38;5;28;01mreturn\u001B[39;00m get_or_create_cached_value()\n",
      "File \u001B[1;32mC:\\Python311\\Lib\\site-packages\\streamlit\\runtime\\legacy_caching\\caching.py:552\u001B[0m, in \u001B[0;36mcache.<locals>.wrapped_func.<locals>.get_or_create_cached_value\u001B[1;34m()\u001B[0m\n\u001B[0;32m    545\u001B[0m \u001B[38;5;28;01mnonlocal\u001B[39;00m cache_key\n\u001B[0;32m    546\u001B[0m \u001B[38;5;28;01mif\u001B[39;00m cache_key \u001B[38;5;129;01mis\u001B[39;00m \u001B[38;5;28;01mNone\u001B[39;00m:\n\u001B[0;32m    547\u001B[0m     \u001B[38;5;66;03m# Delay generating the cache key until the first call.\u001B[39;00m\n\u001B[0;32m    548\u001B[0m     \u001B[38;5;66;03m# This way we can see values of globals, including functions\u001B[39;00m\n\u001B[0;32m    549\u001B[0m     \u001B[38;5;66;03m# defined after this one.\u001B[39;00m\n\u001B[0;32m    550\u001B[0m     \u001B[38;5;66;03m# If we generated the key earlier we would only hash those\u001B[39;00m\n\u001B[0;32m    551\u001B[0m     \u001B[38;5;66;03m# globals by name, and miss changes in their code or value.\u001B[39;00m\n\u001B[1;32m--> 552\u001B[0m     cache_key \u001B[38;5;241m=\u001B[39m \u001B[43m_hash_func\u001B[49m\u001B[43m(\u001B[49m\u001B[43mnon_optional_func\u001B[49m\u001B[43m,\u001B[49m\u001B[43m \u001B[49m\u001B[43mhash_funcs\u001B[49m\u001B[43m)\u001B[49m\n\u001B[0;32m    554\u001B[0m \u001B[38;5;66;03m# First, get the cache that's attached to this function.\u001B[39;00m\n\u001B[0;32m    555\u001B[0m \u001B[38;5;66;03m# This cache's key is generated (above) from the function's code.\u001B[39;00m\n\u001B[0;32m    556\u001B[0m mem_cache \u001B[38;5;241m=\u001B[39m _mem_caches\u001B[38;5;241m.\u001B[39mget_cache(cache_key, max_entries, ttl)\n",
      "File \u001B[1;32mC:\\Python311\\Lib\\site-packages\\streamlit\\runtime\\legacy_caching\\caching.py:679\u001B[0m, in \u001B[0;36m_hash_func\u001B[1;34m(func, hash_funcs)\u001B[0m\n\u001B[0;32m    668\u001B[0m update_hash(\n\u001B[0;32m    669\u001B[0m     (func\u001B[38;5;241m.\u001B[39m\u001B[38;5;18m__module__\u001B[39m, func\u001B[38;5;241m.\u001B[39m\u001B[38;5;18m__qualname__\u001B[39m),\n\u001B[0;32m    670\u001B[0m     hasher\u001B[38;5;241m=\u001B[39mfunc_hasher,\n\u001B[1;32m   (...)\u001B[0m\n\u001B[0;32m    673\u001B[0m     hash_source\u001B[38;5;241m=\u001B[39mfunc,\n\u001B[0;32m    674\u001B[0m )\n\u001B[0;32m    676\u001B[0m \u001B[38;5;66;03m# Include the function's body in the hash. We *do* pass hash_funcs here,\u001B[39;00m\n\u001B[0;32m    677\u001B[0m \u001B[38;5;66;03m# because this step will be hashing any objects referenced in the function\u001B[39;00m\n\u001B[0;32m    678\u001B[0m \u001B[38;5;66;03m# body.\u001B[39;00m\n\u001B[1;32m--> 679\u001B[0m \u001B[43mupdate_hash\u001B[49m\u001B[43m(\u001B[49m\n\u001B[0;32m    680\u001B[0m \u001B[43m    \u001B[49m\u001B[43mfunc\u001B[49m\u001B[43m,\u001B[49m\n\u001B[0;32m    681\u001B[0m \u001B[43m    \u001B[49m\u001B[43mhasher\u001B[49m\u001B[38;5;241;43m=\u001B[39;49m\u001B[43mfunc_hasher\u001B[49m\u001B[43m,\u001B[49m\n\u001B[0;32m    682\u001B[0m \u001B[43m    \u001B[49m\u001B[43mhash_funcs\u001B[49m\u001B[38;5;241;43m=\u001B[39;49m\u001B[43mhash_funcs\u001B[49m\u001B[43m,\u001B[49m\n\u001B[0;32m    683\u001B[0m \u001B[43m    \u001B[49m\u001B[43mhash_reason\u001B[49m\u001B[38;5;241;43m=\u001B[39;49m\u001B[43mHashReason\u001B[49m\u001B[38;5;241;43m.\u001B[39;49m\u001B[43mCACHING_FUNC_BODY\u001B[49m\u001B[43m,\u001B[49m\n\u001B[0;32m    684\u001B[0m \u001B[43m    \u001B[49m\u001B[43mhash_source\u001B[49m\u001B[38;5;241;43m=\u001B[39;49m\u001B[43mfunc\u001B[49m\u001B[43m,\u001B[49m\n\u001B[0;32m    685\u001B[0m \u001B[43m\u001B[49m\u001B[43m)\u001B[49m\n\u001B[0;32m    686\u001B[0m cache_key \u001B[38;5;241m=\u001B[39m func_hasher\u001B[38;5;241m.\u001B[39mhexdigest()\n\u001B[0;32m    687\u001B[0m _LOGGER\u001B[38;5;241m.\u001B[39mdebug(\n\u001B[0;32m    688\u001B[0m     \u001B[38;5;124m\"\u001B[39m\u001B[38;5;124mmem_cache key for \u001B[39m\u001B[38;5;132;01m%s\u001B[39;00m\u001B[38;5;124m.\u001B[39m\u001B[38;5;132;01m%s\u001B[39;00m\u001B[38;5;124m: \u001B[39m\u001B[38;5;132;01m%s\u001B[39;00m\u001B[38;5;124m\"\u001B[39m, func\u001B[38;5;241m.\u001B[39m\u001B[38;5;18m__module__\u001B[39m, func\u001B[38;5;241m.\u001B[39m\u001B[38;5;18m__qualname__\u001B[39m, cache_key\n\u001B[0;32m    689\u001B[0m )\n",
      "File \u001B[1;32mC:\\Python311\\Lib\\site-packages\\streamlit\\runtime\\legacy_caching\\hashing.py:108\u001B[0m, in \u001B[0;36mupdate_hash\u001B[1;34m(val, hasher, hash_reason, hash_source, context, hash_funcs)\u001B[0m\n\u001B[0;32m    105\u001B[0m hash_stacks\u001B[38;5;241m.\u001B[39mcurrent\u001B[38;5;241m.\u001B[39mhash_source \u001B[38;5;241m=\u001B[39m hash_source\n\u001B[0;32m    107\u001B[0m ch \u001B[38;5;241m=\u001B[39m _CodeHasher(hash_funcs)\n\u001B[1;32m--> 108\u001B[0m \u001B[43mch\u001B[49m\u001B[38;5;241;43m.\u001B[39;49m\u001B[43mupdate\u001B[49m\u001B[43m(\u001B[49m\u001B[43mhasher\u001B[49m\u001B[43m,\u001B[49m\u001B[43m \u001B[49m\u001B[43mval\u001B[49m\u001B[43m,\u001B[49m\u001B[43m \u001B[49m\u001B[43mcontext\u001B[49m\u001B[43m)\u001B[49m\n",
      "File \u001B[1;32mC:\\Python311\\Lib\\site-packages\\streamlit\\runtime\\legacy_caching\\hashing.py:385\u001B[0m, in \u001B[0;36m_CodeHasher.update\u001B[1;34m(self, hasher, obj, context)\u001B[0m\n\u001B[0;32m    383\u001B[0m \u001B[38;5;28;01mdef\u001B[39;00m \u001B[38;5;21mupdate\u001B[39m(\u001B[38;5;28mself\u001B[39m, hasher, obj: Any, context: Optional[Context] \u001B[38;5;241m=\u001B[39m \u001B[38;5;28;01mNone\u001B[39;00m) \u001B[38;5;241m-\u001B[39m\u001B[38;5;241m>\u001B[39m \u001B[38;5;28;01mNone\u001B[39;00m:\n\u001B[0;32m    384\u001B[0m \u001B[38;5;250m    \u001B[39m\u001B[38;5;124;03m\"\"\"Update the provided hasher with the hash of an object.\"\"\"\u001B[39;00m\n\u001B[1;32m--> 385\u001B[0m     b \u001B[38;5;241m=\u001B[39m \u001B[38;5;28;43mself\u001B[39;49m\u001B[38;5;241;43m.\u001B[39;49m\u001B[43mto_bytes\u001B[49m\u001B[43m(\u001B[49m\u001B[43mobj\u001B[49m\u001B[43m,\u001B[49m\u001B[43m \u001B[49m\u001B[43mcontext\u001B[49m\u001B[43m)\u001B[49m\n\u001B[0;32m    386\u001B[0m     hasher\u001B[38;5;241m.\u001B[39mupdate(b)\n",
      "File \u001B[1;32mC:\\Python311\\Lib\\site-packages\\streamlit\\runtime\\legacy_caching\\hashing.py:374\u001B[0m, in \u001B[0;36m_CodeHasher.to_bytes\u001B[1;34m(self, obj, context)\u001B[0m\n\u001B[0;32m    371\u001B[0m     \u001B[38;5;28;01mraise\u001B[39;00m\n\u001B[0;32m    373\u001B[0m \u001B[38;5;28;01mexcept\u001B[39;00m \u001B[38;5;167;01mException\u001B[39;00m \u001B[38;5;28;01mas\u001B[39;00m ex:\n\u001B[1;32m--> 374\u001B[0m     \u001B[38;5;28;01mraise\u001B[39;00m InternalHashError(ex, obj)\n\u001B[0;32m    376\u001B[0m \u001B[38;5;28;01mfinally\u001B[39;00m:\n\u001B[0;32m    377\u001B[0m     \u001B[38;5;66;03m# In case an UnhashableTypeError (or other) error is thrown, clean up the\u001B[39;00m\n\u001B[0;32m    378\u001B[0m     \u001B[38;5;66;03m# stack so we don't get false positives in future hashing calls\u001B[39;00m\n\u001B[0;32m    379\u001B[0m     hash_stacks\u001B[38;5;241m.\u001B[39mcurrent\u001B[38;5;241m.\u001B[39mpop()\n",
      "File \u001B[1;32mC:\\Python311\\Lib\\site-packages\\streamlit\\runtime\\legacy_caching\\hashing.py:360\u001B[0m, in \u001B[0;36m_CodeHasher.to_bytes\u001B[1;34m(self, obj, context)\u001B[0m\n\u001B[0;32m    356\u001B[0m hash_stacks\u001B[38;5;241m.\u001B[39mcurrent\u001B[38;5;241m.\u001B[39mpush(obj)\n\u001B[0;32m    358\u001B[0m \u001B[38;5;28;01mtry\u001B[39;00m:\n\u001B[0;32m    359\u001B[0m     \u001B[38;5;66;03m# Hash the input\u001B[39;00m\n\u001B[1;32m--> 360\u001B[0m     b \u001B[38;5;241m=\u001B[39m \u001B[38;5;124mb\u001B[39m\u001B[38;5;124m\"\u001B[39m\u001B[38;5;132;01m%s\u001B[39;00m\u001B[38;5;124m:\u001B[39m\u001B[38;5;132;01m%s\u001B[39;00m\u001B[38;5;124m\"\u001B[39m \u001B[38;5;241m%\u001B[39m (tname, \u001B[38;5;28;43mself\u001B[39;49m\u001B[38;5;241;43m.\u001B[39;49m\u001B[43m_to_bytes\u001B[49m\u001B[43m(\u001B[49m\u001B[43mobj\u001B[49m\u001B[43m,\u001B[49m\u001B[43m \u001B[49m\u001B[43mcontext\u001B[49m\u001B[43m)\u001B[49m)\n\u001B[0;32m    362\u001B[0m     \u001B[38;5;66;03m# Hmmm... It's possible that the size calculation is wrong. When we\u001B[39;00m\n\u001B[0;32m    363\u001B[0m     \u001B[38;5;66;03m# call to_bytes inside _to_bytes things get double-counted.\u001B[39;00m\n\u001B[0;32m    364\u001B[0m     \u001B[38;5;28mself\u001B[39m\u001B[38;5;241m.\u001B[39msize \u001B[38;5;241m+\u001B[39m\u001B[38;5;241m=\u001B[39m sys\u001B[38;5;241m.\u001B[39mgetsizeof(b)\n",
      "File \u001B[1;32mC:\\Python311\\Lib\\site-packages\\streamlit\\runtime\\legacy_caching\\hashing.py:626\u001B[0m, in \u001B[0;36m_CodeHasher._to_bytes\u001B[1;34m(self, obj, context)\u001B[0m\n\u001B[0;32m    624\u001B[0m code \u001B[38;5;241m=\u001B[39m \u001B[38;5;28mgetattr\u001B[39m(obj, \u001B[38;5;124m\"\u001B[39m\u001B[38;5;124m__code__\u001B[39m\u001B[38;5;124m\"\u001B[39m, \u001B[38;5;28;01mNone\u001B[39;00m)\n\u001B[0;32m    625\u001B[0m \u001B[38;5;28;01massert\u001B[39;00m code \u001B[38;5;129;01mis\u001B[39;00m \u001B[38;5;129;01mnot\u001B[39;00m \u001B[38;5;28;01mNone\u001B[39;00m\n\u001B[1;32m--> 626\u001B[0m \u001B[38;5;28;01mif\u001B[39;00m \u001B[38;5;28;43mself\u001B[39;49m\u001B[38;5;241;43m.\u001B[39;49m\u001B[43m_file_should_be_hashed\u001B[49m\u001B[43m(\u001B[49m\u001B[43mcode\u001B[49m\u001B[38;5;241;43m.\u001B[39;49m\u001B[43mco_filename\u001B[49m\u001B[43m)\u001B[49m:\n\u001B[0;32m    627\u001B[0m     context \u001B[38;5;241m=\u001B[39m _get_context(obj)\n\u001B[0;32m    628\u001B[0m     defaults \u001B[38;5;241m=\u001B[39m \u001B[38;5;28mgetattr\u001B[39m(obj, \u001B[38;5;124m\"\u001B[39m\u001B[38;5;124m__defaults__\u001B[39m\u001B[38;5;124m\"\u001B[39m, \u001B[38;5;28;01mNone\u001B[39;00m)\n",
      "File \u001B[1;32mC:\\Python311\\Lib\\site-packages\\streamlit\\runtime\\legacy_caching\\hashing.py:402\u001B[0m, in \u001B[0;36m_CodeHasher._file_should_be_hashed\u001B[1;34m(self, filename)\u001B[0m\n\u001B[0;32m    399\u001B[0m \u001B[38;5;28;01mif\u001B[39;00m file_is_blacklisted:\n\u001B[0;32m    400\u001B[0m     \u001B[38;5;28;01mreturn\u001B[39;00m \u001B[38;5;28;01mFalse\u001B[39;00m\n\u001B[0;32m    401\u001B[0m \u001B[38;5;28;01mreturn\u001B[39;00m file_util\u001B[38;5;241m.\u001B[39mfile_is_in_folder_glob(\n\u001B[1;32m--> 402\u001B[0m     filepath, \u001B[38;5;28;43mself\u001B[39;49m\u001B[38;5;241;43m.\u001B[39;49m\u001B[43m_get_main_script_directory\u001B[49m\u001B[43m(\u001B[49m\u001B[43m)\u001B[49m\n\u001B[0;32m    403\u001B[0m ) \u001B[38;5;129;01mor\u001B[39;00m file_util\u001B[38;5;241m.\u001B[39mfile_in_pythonpath(filepath)\n",
      "File \u001B[1;32mC:\\Python311\\Lib\\site-packages\\streamlit\\runtime\\legacy_caching\\hashing.py:714\u001B[0m, in \u001B[0;36m_CodeHasher._get_main_script_directory\u001B[1;34m()\u001B[0m\n\u001B[0;32m    710\u001B[0m \u001B[38;5;28;01mimport\u001B[39;00m \u001B[38;5;21;01m__main__\u001B[39;00m\n\u001B[0;32m    712\u001B[0m \u001B[38;5;66;03m# This works because we set __main__.__file__ to the\u001B[39;00m\n\u001B[0;32m    713\u001B[0m \u001B[38;5;66;03m# script path in ScriptRunner.\u001B[39;00m\n\u001B[1;32m--> 714\u001B[0m abs_main_path \u001B[38;5;241m=\u001B[39m pathlib\u001B[38;5;241m.\u001B[39mPath(\u001B[43m__main__\u001B[49m\u001B[38;5;241;43m.\u001B[39;49m\u001B[38;5;18;43m__file__\u001B[39;49m)\u001B[38;5;241m.\u001B[39mresolve()\n\u001B[0;32m    715\u001B[0m \u001B[38;5;28;01mreturn\u001B[39;00m \u001B[38;5;28mstr\u001B[39m(abs_main_path\u001B[38;5;241m.\u001B[39mparent)\n",
      "\u001B[1;31mInternalHashError\u001B[0m: module '__main__' has no attribute '__file__'\n\nWhile caching the body of `get_data_from_excel()`, Streamlit encountered an\nobject of type `builtins.function`, which it does not know how to hash.\n\n**In this specific case, it's very likely you found a Streamlit bug so please\n[file a bug report here.]\n(https://github.com/streamlit/streamlit/issues/new/choose)**\n\nIn the meantime, you can try bypassing this error by registering a custom\nhash function via the `hash_funcs` keyword in @st.cache(). For example:\n\n```\n@st.cache(hash_funcs={builtins.function: my_hash_func})\ndef my_func(...):\n    ...\n```\n\nIf you don't know where the object of type `builtins.function` is coming\nfrom, try looking at the hash chain below for an object that you do recognize,\nthen pass that to `hash_funcs` instead:\n\n```\nObject of type builtins.function: <function get_data_from_excel at 0x000001FA0EB01120>\n```\n\nPlease see the `hash_funcs` [documentation](https://docs.streamlit.io/library/advanced-features/caching#the-hash_funcs-parameter)\nfor more details.\n            "
     ]
    }
   ],
   "source": [
    "\n",
    "df = get_data_from_excel()"
   ],
   "metadata": {
    "collapsed": false
   }
  },
  {
   "cell_type": "code",
   "execution_count": 2,
   "outputs": [
    {
     "name": "stderr",
     "output_type": "stream",
     "text": [
      "2023-02-06 15:25:55.206 \n",
      "  \u001B[33m\u001B[1mWarning:\u001B[0m to view this Streamlit app on a browser, run it with the following\n",
      "  command:\n",
      "\n",
      "    streamlit run C:\\Users\\hp\\AppData\\Roaming\\Python\\Python311\\site-packages\\ipykernel_launcher.py [ARGUMENTS]\n"
     ]
    },
    {
     "ename": "InternalHashError",
     "evalue": "module '__main__' has no attribute '__file__'\n\nWhile caching the body of `get_data_from_excel()`, Streamlit encountered an\nobject of type `builtins.function`, which it does not know how to hash.\n\n**In this specific case, it's very likely you found a Streamlit bug so please\n[file a bug report here.]\n(https://github.com/streamlit/streamlit/issues/new/choose)**\n\nIn the meantime, you can try bypassing this error by registering a custom\nhash function via the `hash_funcs` keyword in @st.cache(). For example:\n\n```\n@st.cache(hash_funcs={builtins.function: my_hash_func})\ndef my_func(...):\n    ...\n```\n\nIf you don't know where the object of type `builtins.function` is coming\nfrom, try looking at the hash chain below for an object that you do recognize,\nthen pass that to `hash_funcs` instead:\n\n```\nObject of type builtins.function: <function get_data_from_excel at 0x000001FA0B57B4C0>\n```\n\nPlease see the `hash_funcs` [documentation](https://docs.streamlit.io/library/advanced-features/caching#the-hash_funcs-parameter)\nfor more details.\n            ",
     "output_type": "error",
     "traceback": [
      "\u001B[1;31m---------------------------------------------------------------------------\u001B[0m",
      "\u001B[1;31mAttributeError\u001B[0m                            Traceback (most recent call last)",
      "File \u001B[1;32mC:\\Python311\\Lib\\site-packages\\streamlit\\runtime\\legacy_caching\\hashing.py:360\u001B[0m, in \u001B[0;36m_CodeHasher.to_bytes\u001B[1;34m(self, obj, context)\u001B[0m\n\u001B[0;32m    358\u001B[0m \u001B[38;5;28;01mtry\u001B[39;00m:\n\u001B[0;32m    359\u001B[0m     \u001B[38;5;66;03m# Hash the input\u001B[39;00m\n\u001B[1;32m--> 360\u001B[0m     b \u001B[38;5;241m=\u001B[39m \u001B[38;5;124mb\u001B[39m\u001B[38;5;124m\"\u001B[39m\u001B[38;5;132;01m%s\u001B[39;00m\u001B[38;5;124m:\u001B[39m\u001B[38;5;132;01m%s\u001B[39;00m\u001B[38;5;124m\"\u001B[39m \u001B[38;5;241m%\u001B[39m (tname, \u001B[38;5;28;43mself\u001B[39;49m\u001B[38;5;241;43m.\u001B[39;49m\u001B[43m_to_bytes\u001B[49m\u001B[43m(\u001B[49m\u001B[43mobj\u001B[49m\u001B[43m,\u001B[49m\u001B[43m \u001B[49m\u001B[43mcontext\u001B[49m\u001B[43m)\u001B[49m)\n\u001B[0;32m    362\u001B[0m     \u001B[38;5;66;03m# Hmmm... It's possible that the size calculation is wrong. When we\u001B[39;00m\n\u001B[0;32m    363\u001B[0m     \u001B[38;5;66;03m# call to_bytes inside _to_bytes things get double-counted.\u001B[39;00m\n",
      "File \u001B[1;32mC:\\Python311\\Lib\\site-packages\\streamlit\\runtime\\legacy_caching\\hashing.py:626\u001B[0m, in \u001B[0;36m_CodeHasher._to_bytes\u001B[1;34m(self, obj, context)\u001B[0m\n\u001B[0;32m    625\u001B[0m \u001B[38;5;28;01massert\u001B[39;00m code \u001B[38;5;129;01mis\u001B[39;00m \u001B[38;5;129;01mnot\u001B[39;00m \u001B[38;5;28;01mNone\u001B[39;00m\n\u001B[1;32m--> 626\u001B[0m \u001B[38;5;28;01mif\u001B[39;00m \u001B[38;5;28;43mself\u001B[39;49m\u001B[38;5;241;43m.\u001B[39;49m\u001B[43m_file_should_be_hashed\u001B[49m\u001B[43m(\u001B[49m\u001B[43mcode\u001B[49m\u001B[38;5;241;43m.\u001B[39;49m\u001B[43mco_filename\u001B[49m\u001B[43m)\u001B[49m:\n\u001B[0;32m    627\u001B[0m     context \u001B[38;5;241m=\u001B[39m _get_context(obj)\n",
      "File \u001B[1;32mC:\\Python311\\Lib\\site-packages\\streamlit\\runtime\\legacy_caching\\hashing.py:402\u001B[0m, in \u001B[0;36m_CodeHasher._file_should_be_hashed\u001B[1;34m(self, filename)\u001B[0m\n\u001B[0;32m    400\u001B[0m     \u001B[38;5;28;01mreturn\u001B[39;00m \u001B[38;5;28;01mFalse\u001B[39;00m\n\u001B[0;32m    401\u001B[0m \u001B[38;5;28;01mreturn\u001B[39;00m file_util\u001B[38;5;241m.\u001B[39mfile_is_in_folder_glob(\n\u001B[1;32m--> 402\u001B[0m     filepath, \u001B[38;5;28;43mself\u001B[39;49m\u001B[38;5;241;43m.\u001B[39;49m\u001B[43m_get_main_script_directory\u001B[49m\u001B[43m(\u001B[49m\u001B[43m)\u001B[49m\n\u001B[0;32m    403\u001B[0m ) \u001B[38;5;129;01mor\u001B[39;00m file_util\u001B[38;5;241m.\u001B[39mfile_in_pythonpath(filepath)\n",
      "File \u001B[1;32mC:\\Python311\\Lib\\site-packages\\streamlit\\runtime\\legacy_caching\\hashing.py:714\u001B[0m, in \u001B[0;36m_CodeHasher._get_main_script_directory\u001B[1;34m()\u001B[0m\n\u001B[0;32m    712\u001B[0m \u001B[38;5;66;03m# This works because we set __main__.__file__ to the\u001B[39;00m\n\u001B[0;32m    713\u001B[0m \u001B[38;5;66;03m# script path in ScriptRunner.\u001B[39;00m\n\u001B[1;32m--> 714\u001B[0m abs_main_path \u001B[38;5;241m=\u001B[39m pathlib\u001B[38;5;241m.\u001B[39mPath(\u001B[43m__main__\u001B[49m\u001B[38;5;241;43m.\u001B[39;49m\u001B[38;5;18;43m__file__\u001B[39;49m)\u001B[38;5;241m.\u001B[39mresolve()\n\u001B[0;32m    715\u001B[0m \u001B[38;5;28;01mreturn\u001B[39;00m \u001B[38;5;28mstr\u001B[39m(abs_main_path\u001B[38;5;241m.\u001B[39mparent)\n",
      "\u001B[1;31mAttributeError\u001B[0m: module '__main__' has no attribute '__file__'",
      "\nDuring handling of the above exception, another exception occurred:\n",
      "\u001B[1;31mInternalHashError\u001B[0m                         Traceback (most recent call last)",
      "Cell \u001B[1;32mIn [2], line 30\u001B[0m\n\u001B[0;32m     27\u001B[0m     df[\u001B[38;5;124m\"\u001B[39m\u001B[38;5;124mhour\u001B[39m\u001B[38;5;124m\"\u001B[39m] \u001B[38;5;241m=\u001B[39m pd\u001B[38;5;241m.\u001B[39mto_datetime(df[\u001B[38;5;124m\"\u001B[39m\u001B[38;5;124mTime\u001B[39m\u001B[38;5;124m\"\u001B[39m], \u001B[38;5;28mformat\u001B[39m\u001B[38;5;241m=\u001B[39m\u001B[38;5;124m\"\u001B[39m\u001B[38;5;124m%\u001B[39m\u001B[38;5;124mH:\u001B[39m\u001B[38;5;124m%\u001B[39m\u001B[38;5;124mM:\u001B[39m\u001B[38;5;124m%\u001B[39m\u001B[38;5;124mS\u001B[39m\u001B[38;5;124m\"\u001B[39m)\u001B[38;5;241m.\u001B[39mdt\u001B[38;5;241m.\u001B[39mhour\n\u001B[0;32m     28\u001B[0m     \u001B[38;5;28;01mreturn\u001B[39;00m df\n\u001B[1;32m---> 30\u001B[0m df \u001B[38;5;241m=\u001B[39m \u001B[43mget_data_from_excel\u001B[49m\u001B[43m(\u001B[49m\u001B[43m)\u001B[49m\n\u001B[0;32m     32\u001B[0m \u001B[38;5;66;03m# ---- SIDEBAR ----\u001B[39;00m\n\u001B[0;32m     33\u001B[0m st\u001B[38;5;241m.\u001B[39msidebar\u001B[38;5;241m.\u001B[39mheader(\u001B[38;5;124m\"\u001B[39m\u001B[38;5;124mPlease Filter Here:\u001B[39m\u001B[38;5;124m\"\u001B[39m)\n",
      "File \u001B[1;32mC:\\Python311\\Lib\\site-packages\\streamlit\\runtime\\legacy_caching\\caching.py:627\u001B[0m, in \u001B[0;36mcache.<locals>.wrapped_func\u001B[1;34m(*args, **kwargs)\u001B[0m\n\u001B[0;32m    625\u001B[0m \u001B[38;5;28;01mif\u001B[39;00m show_spinner:\n\u001B[0;32m    626\u001B[0m     \u001B[38;5;28;01mwith\u001B[39;00m spinner(message):\n\u001B[1;32m--> 627\u001B[0m         \u001B[38;5;28;01mreturn\u001B[39;00m \u001B[43mget_or_create_cached_value\u001B[49m\u001B[43m(\u001B[49m\u001B[43m)\u001B[49m\n\u001B[0;32m    628\u001B[0m \u001B[38;5;28;01melse\u001B[39;00m:\n\u001B[0;32m    629\u001B[0m     \u001B[38;5;28;01mreturn\u001B[39;00m get_or_create_cached_value()\n",
      "File \u001B[1;32mC:\\Python311\\Lib\\site-packages\\streamlit\\runtime\\legacy_caching\\caching.py:552\u001B[0m, in \u001B[0;36mcache.<locals>.wrapped_func.<locals>.get_or_create_cached_value\u001B[1;34m()\u001B[0m\n\u001B[0;32m    545\u001B[0m \u001B[38;5;28;01mnonlocal\u001B[39;00m cache_key\n\u001B[0;32m    546\u001B[0m \u001B[38;5;28;01mif\u001B[39;00m cache_key \u001B[38;5;129;01mis\u001B[39;00m \u001B[38;5;28;01mNone\u001B[39;00m:\n\u001B[0;32m    547\u001B[0m     \u001B[38;5;66;03m# Delay generating the cache key until the first call.\u001B[39;00m\n\u001B[0;32m    548\u001B[0m     \u001B[38;5;66;03m# This way we can see values of globals, including functions\u001B[39;00m\n\u001B[0;32m    549\u001B[0m     \u001B[38;5;66;03m# defined after this one.\u001B[39;00m\n\u001B[0;32m    550\u001B[0m     \u001B[38;5;66;03m# If we generated the key earlier we would only hash those\u001B[39;00m\n\u001B[0;32m    551\u001B[0m     \u001B[38;5;66;03m# globals by name, and miss changes in their code or value.\u001B[39;00m\n\u001B[1;32m--> 552\u001B[0m     cache_key \u001B[38;5;241m=\u001B[39m \u001B[43m_hash_func\u001B[49m\u001B[43m(\u001B[49m\u001B[43mnon_optional_func\u001B[49m\u001B[43m,\u001B[49m\u001B[43m \u001B[49m\u001B[43mhash_funcs\u001B[49m\u001B[43m)\u001B[49m\n\u001B[0;32m    554\u001B[0m \u001B[38;5;66;03m# First, get the cache that's attached to this function.\u001B[39;00m\n\u001B[0;32m    555\u001B[0m \u001B[38;5;66;03m# This cache's key is generated (above) from the function's code.\u001B[39;00m\n\u001B[0;32m    556\u001B[0m mem_cache \u001B[38;5;241m=\u001B[39m _mem_caches\u001B[38;5;241m.\u001B[39mget_cache(cache_key, max_entries, ttl)\n",
      "File \u001B[1;32mC:\\Python311\\Lib\\site-packages\\streamlit\\runtime\\legacy_caching\\caching.py:679\u001B[0m, in \u001B[0;36m_hash_func\u001B[1;34m(func, hash_funcs)\u001B[0m\n\u001B[0;32m    668\u001B[0m update_hash(\n\u001B[0;32m    669\u001B[0m     (func\u001B[38;5;241m.\u001B[39m\u001B[38;5;18m__module__\u001B[39m, func\u001B[38;5;241m.\u001B[39m\u001B[38;5;18m__qualname__\u001B[39m),\n\u001B[0;32m    670\u001B[0m     hasher\u001B[38;5;241m=\u001B[39mfunc_hasher,\n\u001B[1;32m   (...)\u001B[0m\n\u001B[0;32m    673\u001B[0m     hash_source\u001B[38;5;241m=\u001B[39mfunc,\n\u001B[0;32m    674\u001B[0m )\n\u001B[0;32m    676\u001B[0m \u001B[38;5;66;03m# Include the function's body in the hash. We *do* pass hash_funcs here,\u001B[39;00m\n\u001B[0;32m    677\u001B[0m \u001B[38;5;66;03m# because this step will be hashing any objects referenced in the function\u001B[39;00m\n\u001B[0;32m    678\u001B[0m \u001B[38;5;66;03m# body.\u001B[39;00m\n\u001B[1;32m--> 679\u001B[0m \u001B[43mupdate_hash\u001B[49m\u001B[43m(\u001B[49m\n\u001B[0;32m    680\u001B[0m \u001B[43m    \u001B[49m\u001B[43mfunc\u001B[49m\u001B[43m,\u001B[49m\n\u001B[0;32m    681\u001B[0m \u001B[43m    \u001B[49m\u001B[43mhasher\u001B[49m\u001B[38;5;241;43m=\u001B[39;49m\u001B[43mfunc_hasher\u001B[49m\u001B[43m,\u001B[49m\n\u001B[0;32m    682\u001B[0m \u001B[43m    \u001B[49m\u001B[43mhash_funcs\u001B[49m\u001B[38;5;241;43m=\u001B[39;49m\u001B[43mhash_funcs\u001B[49m\u001B[43m,\u001B[49m\n\u001B[0;32m    683\u001B[0m \u001B[43m    \u001B[49m\u001B[43mhash_reason\u001B[49m\u001B[38;5;241;43m=\u001B[39;49m\u001B[43mHashReason\u001B[49m\u001B[38;5;241;43m.\u001B[39;49m\u001B[43mCACHING_FUNC_BODY\u001B[49m\u001B[43m,\u001B[49m\n\u001B[0;32m    684\u001B[0m \u001B[43m    \u001B[49m\u001B[43mhash_source\u001B[49m\u001B[38;5;241;43m=\u001B[39;49m\u001B[43mfunc\u001B[49m\u001B[43m,\u001B[49m\n\u001B[0;32m    685\u001B[0m \u001B[43m\u001B[49m\u001B[43m)\u001B[49m\n\u001B[0;32m    686\u001B[0m cache_key \u001B[38;5;241m=\u001B[39m func_hasher\u001B[38;5;241m.\u001B[39mhexdigest()\n\u001B[0;32m    687\u001B[0m _LOGGER\u001B[38;5;241m.\u001B[39mdebug(\n\u001B[0;32m    688\u001B[0m     \u001B[38;5;124m\"\u001B[39m\u001B[38;5;124mmem_cache key for \u001B[39m\u001B[38;5;132;01m%s\u001B[39;00m\u001B[38;5;124m.\u001B[39m\u001B[38;5;132;01m%s\u001B[39;00m\u001B[38;5;124m: \u001B[39m\u001B[38;5;132;01m%s\u001B[39;00m\u001B[38;5;124m\"\u001B[39m, func\u001B[38;5;241m.\u001B[39m\u001B[38;5;18m__module__\u001B[39m, func\u001B[38;5;241m.\u001B[39m\u001B[38;5;18m__qualname__\u001B[39m, cache_key\n\u001B[0;32m    689\u001B[0m )\n",
      "File \u001B[1;32mC:\\Python311\\Lib\\site-packages\\streamlit\\runtime\\legacy_caching\\hashing.py:108\u001B[0m, in \u001B[0;36mupdate_hash\u001B[1;34m(val, hasher, hash_reason, hash_source, context, hash_funcs)\u001B[0m\n\u001B[0;32m    105\u001B[0m hash_stacks\u001B[38;5;241m.\u001B[39mcurrent\u001B[38;5;241m.\u001B[39mhash_source \u001B[38;5;241m=\u001B[39m hash_source\n\u001B[0;32m    107\u001B[0m ch \u001B[38;5;241m=\u001B[39m _CodeHasher(hash_funcs)\n\u001B[1;32m--> 108\u001B[0m \u001B[43mch\u001B[49m\u001B[38;5;241;43m.\u001B[39;49m\u001B[43mupdate\u001B[49m\u001B[43m(\u001B[49m\u001B[43mhasher\u001B[49m\u001B[43m,\u001B[49m\u001B[43m \u001B[49m\u001B[43mval\u001B[49m\u001B[43m,\u001B[49m\u001B[43m \u001B[49m\u001B[43mcontext\u001B[49m\u001B[43m)\u001B[49m\n",
      "File \u001B[1;32mC:\\Python311\\Lib\\site-packages\\streamlit\\runtime\\legacy_caching\\hashing.py:385\u001B[0m, in \u001B[0;36m_CodeHasher.update\u001B[1;34m(self, hasher, obj, context)\u001B[0m\n\u001B[0;32m    383\u001B[0m \u001B[38;5;28;01mdef\u001B[39;00m \u001B[38;5;21mupdate\u001B[39m(\u001B[38;5;28mself\u001B[39m, hasher, obj: Any, context: Optional[Context] \u001B[38;5;241m=\u001B[39m \u001B[38;5;28;01mNone\u001B[39;00m) \u001B[38;5;241m-\u001B[39m\u001B[38;5;241m>\u001B[39m \u001B[38;5;28;01mNone\u001B[39;00m:\n\u001B[0;32m    384\u001B[0m \u001B[38;5;250m    \u001B[39m\u001B[38;5;124;03m\"\"\"Update the provided hasher with the hash of an object.\"\"\"\u001B[39;00m\n\u001B[1;32m--> 385\u001B[0m     b \u001B[38;5;241m=\u001B[39m \u001B[38;5;28;43mself\u001B[39;49m\u001B[38;5;241;43m.\u001B[39;49m\u001B[43mto_bytes\u001B[49m\u001B[43m(\u001B[49m\u001B[43mobj\u001B[49m\u001B[43m,\u001B[49m\u001B[43m \u001B[49m\u001B[43mcontext\u001B[49m\u001B[43m)\u001B[49m\n\u001B[0;32m    386\u001B[0m     hasher\u001B[38;5;241m.\u001B[39mupdate(b)\n",
      "File \u001B[1;32mC:\\Python311\\Lib\\site-packages\\streamlit\\runtime\\legacy_caching\\hashing.py:374\u001B[0m, in \u001B[0;36m_CodeHasher.to_bytes\u001B[1;34m(self, obj, context)\u001B[0m\n\u001B[0;32m    371\u001B[0m     \u001B[38;5;28;01mraise\u001B[39;00m\n\u001B[0;32m    373\u001B[0m \u001B[38;5;28;01mexcept\u001B[39;00m \u001B[38;5;167;01mException\u001B[39;00m \u001B[38;5;28;01mas\u001B[39;00m ex:\n\u001B[1;32m--> 374\u001B[0m     \u001B[38;5;28;01mraise\u001B[39;00m InternalHashError(ex, obj)\n\u001B[0;32m    376\u001B[0m \u001B[38;5;28;01mfinally\u001B[39;00m:\n\u001B[0;32m    377\u001B[0m     \u001B[38;5;66;03m# In case an UnhashableTypeError (or other) error is thrown, clean up the\u001B[39;00m\n\u001B[0;32m    378\u001B[0m     \u001B[38;5;66;03m# stack so we don't get false positives in future hashing calls\u001B[39;00m\n\u001B[0;32m    379\u001B[0m     hash_stacks\u001B[38;5;241m.\u001B[39mcurrent\u001B[38;5;241m.\u001B[39mpop()\n",
      "File \u001B[1;32mC:\\Python311\\Lib\\site-packages\\streamlit\\runtime\\legacy_caching\\hashing.py:360\u001B[0m, in \u001B[0;36m_CodeHasher.to_bytes\u001B[1;34m(self, obj, context)\u001B[0m\n\u001B[0;32m    356\u001B[0m hash_stacks\u001B[38;5;241m.\u001B[39mcurrent\u001B[38;5;241m.\u001B[39mpush(obj)\n\u001B[0;32m    358\u001B[0m \u001B[38;5;28;01mtry\u001B[39;00m:\n\u001B[0;32m    359\u001B[0m     \u001B[38;5;66;03m# Hash the input\u001B[39;00m\n\u001B[1;32m--> 360\u001B[0m     b \u001B[38;5;241m=\u001B[39m \u001B[38;5;124mb\u001B[39m\u001B[38;5;124m\"\u001B[39m\u001B[38;5;132;01m%s\u001B[39;00m\u001B[38;5;124m:\u001B[39m\u001B[38;5;132;01m%s\u001B[39;00m\u001B[38;5;124m\"\u001B[39m \u001B[38;5;241m%\u001B[39m (tname, \u001B[38;5;28;43mself\u001B[39;49m\u001B[38;5;241;43m.\u001B[39;49m\u001B[43m_to_bytes\u001B[49m\u001B[43m(\u001B[49m\u001B[43mobj\u001B[49m\u001B[43m,\u001B[49m\u001B[43m \u001B[49m\u001B[43mcontext\u001B[49m\u001B[43m)\u001B[49m)\n\u001B[0;32m    362\u001B[0m     \u001B[38;5;66;03m# Hmmm... It's possible that the size calculation is wrong. When we\u001B[39;00m\n\u001B[0;32m    363\u001B[0m     \u001B[38;5;66;03m# call to_bytes inside _to_bytes things get double-counted.\u001B[39;00m\n\u001B[0;32m    364\u001B[0m     \u001B[38;5;28mself\u001B[39m\u001B[38;5;241m.\u001B[39msize \u001B[38;5;241m+\u001B[39m\u001B[38;5;241m=\u001B[39m sys\u001B[38;5;241m.\u001B[39mgetsizeof(b)\n",
      "File \u001B[1;32mC:\\Python311\\Lib\\site-packages\\streamlit\\runtime\\legacy_caching\\hashing.py:626\u001B[0m, in \u001B[0;36m_CodeHasher._to_bytes\u001B[1;34m(self, obj, context)\u001B[0m\n\u001B[0;32m    624\u001B[0m code \u001B[38;5;241m=\u001B[39m \u001B[38;5;28mgetattr\u001B[39m(obj, \u001B[38;5;124m\"\u001B[39m\u001B[38;5;124m__code__\u001B[39m\u001B[38;5;124m\"\u001B[39m, \u001B[38;5;28;01mNone\u001B[39;00m)\n\u001B[0;32m    625\u001B[0m \u001B[38;5;28;01massert\u001B[39;00m code \u001B[38;5;129;01mis\u001B[39;00m \u001B[38;5;129;01mnot\u001B[39;00m \u001B[38;5;28;01mNone\u001B[39;00m\n\u001B[1;32m--> 626\u001B[0m \u001B[38;5;28;01mif\u001B[39;00m \u001B[38;5;28;43mself\u001B[39;49m\u001B[38;5;241;43m.\u001B[39;49m\u001B[43m_file_should_be_hashed\u001B[49m\u001B[43m(\u001B[49m\u001B[43mcode\u001B[49m\u001B[38;5;241;43m.\u001B[39;49m\u001B[43mco_filename\u001B[49m\u001B[43m)\u001B[49m:\n\u001B[0;32m    627\u001B[0m     context \u001B[38;5;241m=\u001B[39m _get_context(obj)\n\u001B[0;32m    628\u001B[0m     defaults \u001B[38;5;241m=\u001B[39m \u001B[38;5;28mgetattr\u001B[39m(obj, \u001B[38;5;124m\"\u001B[39m\u001B[38;5;124m__defaults__\u001B[39m\u001B[38;5;124m\"\u001B[39m, \u001B[38;5;28;01mNone\u001B[39;00m)\n",
      "File \u001B[1;32mC:\\Python311\\Lib\\site-packages\\streamlit\\runtime\\legacy_caching\\hashing.py:402\u001B[0m, in \u001B[0;36m_CodeHasher._file_should_be_hashed\u001B[1;34m(self, filename)\u001B[0m\n\u001B[0;32m    399\u001B[0m \u001B[38;5;28;01mif\u001B[39;00m file_is_blacklisted:\n\u001B[0;32m    400\u001B[0m     \u001B[38;5;28;01mreturn\u001B[39;00m \u001B[38;5;28;01mFalse\u001B[39;00m\n\u001B[0;32m    401\u001B[0m \u001B[38;5;28;01mreturn\u001B[39;00m file_util\u001B[38;5;241m.\u001B[39mfile_is_in_folder_glob(\n\u001B[1;32m--> 402\u001B[0m     filepath, \u001B[38;5;28;43mself\u001B[39;49m\u001B[38;5;241;43m.\u001B[39;49m\u001B[43m_get_main_script_directory\u001B[49m\u001B[43m(\u001B[49m\u001B[43m)\u001B[49m\n\u001B[0;32m    403\u001B[0m ) \u001B[38;5;129;01mor\u001B[39;00m file_util\u001B[38;5;241m.\u001B[39mfile_in_pythonpath(filepath)\n",
      "File \u001B[1;32mC:\\Python311\\Lib\\site-packages\\streamlit\\runtime\\legacy_caching\\hashing.py:714\u001B[0m, in \u001B[0;36m_CodeHasher._get_main_script_directory\u001B[1;34m()\u001B[0m\n\u001B[0;32m    710\u001B[0m \u001B[38;5;28;01mimport\u001B[39;00m \u001B[38;5;21;01m__main__\u001B[39;00m\n\u001B[0;32m    712\u001B[0m \u001B[38;5;66;03m# This works because we set __main__.__file__ to the\u001B[39;00m\n\u001B[0;32m    713\u001B[0m \u001B[38;5;66;03m# script path in ScriptRunner.\u001B[39;00m\n\u001B[1;32m--> 714\u001B[0m abs_main_path \u001B[38;5;241m=\u001B[39m pathlib\u001B[38;5;241m.\u001B[39mPath(\u001B[43m__main__\u001B[49m\u001B[38;5;241;43m.\u001B[39;49m\u001B[38;5;18;43m__file__\u001B[39;49m)\u001B[38;5;241m.\u001B[39mresolve()\n\u001B[0;32m    715\u001B[0m \u001B[38;5;28;01mreturn\u001B[39;00m \u001B[38;5;28mstr\u001B[39m(abs_main_path\u001B[38;5;241m.\u001B[39mparent)\n",
      "\u001B[1;31mInternalHashError\u001B[0m: module '__main__' has no attribute '__file__'\n\nWhile caching the body of `get_data_from_excel()`, Streamlit encountered an\nobject of type `builtins.function`, which it does not know how to hash.\n\n**In this specific case, it's very likely you found a Streamlit bug so please\n[file a bug report here.]\n(https://github.com/streamlit/streamlit/issues/new/choose)**\n\nIn the meantime, you can try bypassing this error by registering a custom\nhash function via the `hash_funcs` keyword in @st.cache(). For example:\n\n```\n@st.cache(hash_funcs={builtins.function: my_hash_func})\ndef my_func(...):\n    ...\n```\n\nIf you don't know where the object of type `builtins.function` is coming\nfrom, try looking at the hash chain below for an object that you do recognize,\nthen pass that to `hash_funcs` instead:\n\n```\nObject of type builtins.function: <function get_data_from_excel at 0x000001FA0B57B4C0>\n```\n\nPlease see the `hash_funcs` [documentation](https://docs.streamlit.io/library/advanced-features/caching#the-hash_funcs-parameter)\nfor more details.\n            "
     ]
    }
   ],
   "source": [
    "\n",
    "# ---- SIDEBAR ----\n",
    "st.sidebar.header(\"Please Filter Here:\")\n",
    "city = st.sidebar.multiselect(\n",
    "    \"Select the City:\",\n",
    "    options=df[\"City\"].unique(),\n",
    "    default=df[\"City\"].unique()\n",
    ")\n",
    "\n",
    "customer_type = st.sidebar.multiselect(\n",
    "    \"Select the Customer Type:\",\n",
    "    options=df[\"Customer_type\"].unique(),\n",
    "    default=df[\"Customer_type\"].unique(),\n",
    ")\n",
    "\n",
    "gender = st.sidebar.multiselect(\n",
    "    \"Select the Gender:\",\n",
    "    options=df[\"Gender\"].unique(),\n",
    "    default=df[\"Gender\"].unique()\n",
    ")\n",
    "\n",
    "df_selection = df.query(\n",
    "    \"City == @city & Customer_type ==@customer_type & Gender == @gender\"\n",
    ")\n",
    "\n",
    "# ---- MAINPAGE ----\n",
    "st.title(\":bar_chart: Sales Dashboard\")\n",
    "st.markdown(\"##\")\n",
    "\n",
    "# TOP KPI's\n",
    "total_sales = int(df_selection[\"Total\"].sum())\n",
    "average_rating = round(df_selection[\"Rating\"].mean(), 1)\n",
    "star_rating = \":star:\" * int(round(average_rating, 0))\n",
    "average_sale_by_transaction = round(df_selection[\"Total\"].mean(), 2)\n",
    "\n",
    "left_column, middle_column, right_column = st.columns(3)\n",
    "with left_column:\n",
    "    st.subheader(\"Total Sales:\")\n",
    "    st.subheader(f\"US $ {total_sales:,}\")\n",
    "with middle_column:\n",
    "    st.subheader(\"Average Rating:\")\n",
    "    st.subheader(f\"{average_rating} {star_rating}\")\n",
    "with right_column:\n",
    "    st.subheader(\"Average Sales Per Transaction:\")\n",
    "    st.subheader(f\"US $ {average_sale_by_transaction}\")\n",
    "\n",
    "st.markdown(\"\"\"---\"\"\")\n",
    "\n",
    "# SALES BY PRODUCT LINE [BAR CHART]\n",
    "sales_by_product_line = (\n",
    "    df_selection.groupby(by=[\"Product line\"]).sum()[[\"Total\"]].sort_values(by=\"Total\")\n",
    ")\n",
    "fig_product_sales = px.bar(\n",
    "    sales_by_product_line,\n",
    "    x=\"Total\",\n",
    "    y=sales_by_product_line.index,\n",
    "    orientation=\"h\",\n",
    "    title=\"<b>Sales by Product Line</b>\",\n",
    "    color_discrete_sequence=[\"#0083B8\"] * len(sales_by_product_line),\n",
    "    template=\"plotly_white\",\n",
    ")\n",
    "fig_product_sales.update_layout(\n",
    "    plot_bgcolor=\"rgba(0,0,0,0)\",\n",
    "    xaxis=(dict(showgrid=False))\n",
    ")\n",
    "\n",
    "# SALES BY HOUR [BAR CHART]\n",
    "sales_by_hour = df_selection.groupby(by=[\"hour\"]).sum()[[\"Total\"]]\n",
    "fig_hourly_sales = px.bar(\n",
    "    sales_by_hour,\n",
    "    x=sales_by_hour.index,\n",
    "    y=\"Total\",\n",
    "    title=\"<b>Sales by hour</b>\",\n",
    "    color_discrete_sequence=[\"#0083B8\"] * len(sales_by_hour),\n",
    "    template=\"plotly_white\",\n",
    ")\n",
    "fig_hourly_sales.update_layout(\n",
    "    xaxis=dict(tickmode=\"linear\"),\n",
    "    plot_bgcolor=\"rgba(0,0,0,0)\",\n",
    "    yaxis=(dict(showgrid=False)),\n",
    ")\n",
    "\n",
    "\n",
    "left_column, right_column = st.columns(2)\n",
    "left_column.plotly_chart(fig_hourly_sales, use_container_width=True)\n",
    "right_column.plotly_chart(fig_product_sales, use_container_width=True)\n",
    "\n",
    "\n",
    "# ---- HIDE STREAMLIT STYLE ----\n",
    "hide_st_style = \"\"\"\n",
    "            <style>\n",
    "            #MainMenu {visibility: hidden;}\n",
    "            footer {visibility: hidden;}\n",
    "            header {visibility: hidden;}\n",
    "            </style>\n",
    "            \"\"\"\n",
    "st.markdown(hide_st_style, unsafe_allow_html=True)"
   ],
   "metadata": {
    "collapsed": false
   }
  },
  {
   "cell_type": "code",
   "execution_count": null,
   "outputs": [],
   "source": [],
   "metadata": {
    "collapsed": false
   }
  }
 ],
 "metadata": {
  "kernelspec": {
   "display_name": "Python 3",
   "language": "python",
   "name": "python3"
  },
  "language_info": {
   "codemirror_mode": {
    "name": "ipython",
    "version": 2
   },
   "file_extension": ".py",
   "mimetype": "text/x-python",
   "name": "python",
   "nbconvert_exporter": "python",
   "pygments_lexer": "ipython2",
   "version": "2.7.6"
  }
 },
 "nbformat": 4,
 "nbformat_minor": 0
}
