{
 "cells": [
  {
   "cell_type": "markdown",
   "source": [
    "# Speed up your Pandas Code!"
   ],
   "metadata": {
    "collapsed": false
   },
   "outputs": [],
   "execution_count": 0
  },
  {
   "cell_type": "code",
   "execution_count": 37,
   "outputs": [],
   "source": [
    "import matplotlib\n",
    "import pandas as pd\n",
    "import numpy as np"
   ],
   "metadata": {
    "collapsed": false
   }
  },
  {
   "cell_type": "code",
   "execution_count": 38,
   "outputs": [],
   "source": [
    "df = pd.DataFrame()\n",
    "size = 10_000\n",
    "df['age']= np.random.randint(0,100,size)\n",
    "df['time_in_bed']=np.random.randint(0,9, size)\n",
    "df['pct_sleeping'] = np.random.rand(size)\n",
    "df['favorite_food']=np.random.choice(['pizza','toco','ice-cream'], size)\n",
    "df['hate_food'] = np.random.choice(['broccoli', 'canday corn', 'eggs'], size)"
   ],
   "metadata": {
    "collapsed": false
   }
  },
  {
   "cell_type": "code",
   "execution_count": 39,
   "outputs": [
    {
     "data": {
      "text/plain": "      age  time_in_bed  pct_sleeping favorite_food    hate_food\n0      74            3      0.125181         pizza  canday corn\n1      25            1      0.298076         pizza         eggs\n2      33            5      0.341611          toco         eggs\n3      89            1      0.055910     ice-cream     broccoli\n4      23            3      0.353171          toco     broccoli\n...   ...          ...           ...           ...          ...\n9995   74            4      0.318207          toco         eggs\n9996   40            2      0.149529     ice-cream  canday corn\n9997   48            6      0.718335     ice-cream  canday corn\n9998   72            2      0.230502     ice-cream     broccoli\n9999   82            1      0.905856          toco         eggs\n\n[10000 rows x 5 columns]",
      "text/html": "<div>\n<style scoped>\n    .dataframe tbody tr th:only-of-type {\n        vertical-align: middle;\n    }\n\n    .dataframe tbody tr th {\n        vertical-align: top;\n    }\n\n    .dataframe thead th {\n        text-align: right;\n    }\n</style>\n<table border=\"1\" class=\"dataframe\">\n  <thead>\n    <tr style=\"text-align: right;\">\n      <th></th>\n      <th>age</th>\n      <th>time_in_bed</th>\n      <th>pct_sleeping</th>\n      <th>favorite_food</th>\n      <th>hate_food</th>\n    </tr>\n  </thead>\n  <tbody>\n    <tr>\n      <th>0</th>\n      <td>74</td>\n      <td>3</td>\n      <td>0.125181</td>\n      <td>pizza</td>\n      <td>canday corn</td>\n    </tr>\n    <tr>\n      <th>1</th>\n      <td>25</td>\n      <td>1</td>\n      <td>0.298076</td>\n      <td>pizza</td>\n      <td>eggs</td>\n    </tr>\n    <tr>\n      <th>2</th>\n      <td>33</td>\n      <td>5</td>\n      <td>0.341611</td>\n      <td>toco</td>\n      <td>eggs</td>\n    </tr>\n    <tr>\n      <th>3</th>\n      <td>89</td>\n      <td>1</td>\n      <td>0.055910</td>\n      <td>ice-cream</td>\n      <td>broccoli</td>\n    </tr>\n    <tr>\n      <th>4</th>\n      <td>23</td>\n      <td>3</td>\n      <td>0.353171</td>\n      <td>toco</td>\n      <td>broccoli</td>\n    </tr>\n    <tr>\n      <th>...</th>\n      <td>...</td>\n      <td>...</td>\n      <td>...</td>\n      <td>...</td>\n      <td>...</td>\n    </tr>\n    <tr>\n      <th>9995</th>\n      <td>74</td>\n      <td>4</td>\n      <td>0.318207</td>\n      <td>toco</td>\n      <td>eggs</td>\n    </tr>\n    <tr>\n      <th>9996</th>\n      <td>40</td>\n      <td>2</td>\n      <td>0.149529</td>\n      <td>ice-cream</td>\n      <td>canday corn</td>\n    </tr>\n    <tr>\n      <th>9997</th>\n      <td>48</td>\n      <td>6</td>\n      <td>0.718335</td>\n      <td>ice-cream</td>\n      <td>canday corn</td>\n    </tr>\n    <tr>\n      <th>9998</th>\n      <td>72</td>\n      <td>2</td>\n      <td>0.230502</td>\n      <td>ice-cream</td>\n      <td>broccoli</td>\n    </tr>\n    <tr>\n      <th>9999</th>\n      <td>82</td>\n      <td>1</td>\n      <td>0.905856</td>\n      <td>toco</td>\n      <td>eggs</td>\n    </tr>\n  </tbody>\n</table>\n<p>10000 rows × 5 columns</p>\n</div>"
     },
     "execution_count": 39,
     "metadata": {},
     "output_type": "execute_result"
    }
   ],
   "source": [
    "df"
   ],
   "metadata": {
    "collapsed": false
   }
  },
  {
   "cell_type": "code",
   "execution_count": 40,
   "outputs": [],
   "source": [
    "def get_data(size= 10_000):\n",
    "    df = pd.DataFrame()\n",
    "    df['age']= np.random.randint(0,100,size)\n",
    "    df['time_in_bed']=np.random.randint(0,9, size)\n",
    "    df['pct_sleeping'] = np.random.rand(size)\n",
    "    df['favorite_food']=np.random.choice(['pizza','toco','ice-cream'], size)\n",
    "    df['hate_food'] = np.random.choice(['broccoli', 'canday corn', 'eggs'], size)\n",
    "\n",
    "    return df"
   ],
   "metadata": {
    "collapsed": false
   }
  },
  {
   "cell_type": "code",
   "execution_count": 41,
   "outputs": [],
   "source": [
    "df1 = get_data()"
   ],
   "metadata": {
    "collapsed": false
   }
  },
  {
   "cell_type": "code",
   "execution_count": 42,
   "outputs": [
    {
     "data": {
      "text/plain": "      age  time_in_bed  pct_sleeping favorite_food    hate_food\n0      61            1      0.573620         pizza     broccoli\n1      64            3      0.585688         pizza         eggs\n2       1            5      0.674363         pizza  canday corn\n3       4            3      0.108029         pizza  canday corn\n4      12            6      0.466635     ice-cream     broccoli\n...   ...          ...           ...           ...          ...\n9995   66            7      0.858438          toco         eggs\n9996   56            3      0.422001          toco         eggs\n9997   19            5      0.646118          toco     broccoli\n9998   30            2      0.779848         pizza  canday corn\n9999   85            7      0.012236         pizza         eggs\n\n[10000 rows x 5 columns]",
      "text/html": "<div>\n<style scoped>\n    .dataframe tbody tr th:only-of-type {\n        vertical-align: middle;\n    }\n\n    .dataframe tbody tr th {\n        vertical-align: top;\n    }\n\n    .dataframe thead th {\n        text-align: right;\n    }\n</style>\n<table border=\"1\" class=\"dataframe\">\n  <thead>\n    <tr style=\"text-align: right;\">\n      <th></th>\n      <th>age</th>\n      <th>time_in_bed</th>\n      <th>pct_sleeping</th>\n      <th>favorite_food</th>\n      <th>hate_food</th>\n    </tr>\n  </thead>\n  <tbody>\n    <tr>\n      <th>0</th>\n      <td>61</td>\n      <td>1</td>\n      <td>0.573620</td>\n      <td>pizza</td>\n      <td>broccoli</td>\n    </tr>\n    <tr>\n      <th>1</th>\n      <td>64</td>\n      <td>3</td>\n      <td>0.585688</td>\n      <td>pizza</td>\n      <td>eggs</td>\n    </tr>\n    <tr>\n      <th>2</th>\n      <td>1</td>\n      <td>5</td>\n      <td>0.674363</td>\n      <td>pizza</td>\n      <td>canday corn</td>\n    </tr>\n    <tr>\n      <th>3</th>\n      <td>4</td>\n      <td>3</td>\n      <td>0.108029</td>\n      <td>pizza</td>\n      <td>canday corn</td>\n    </tr>\n    <tr>\n      <th>4</th>\n      <td>12</td>\n      <td>6</td>\n      <td>0.466635</td>\n      <td>ice-cream</td>\n      <td>broccoli</td>\n    </tr>\n    <tr>\n      <th>...</th>\n      <td>...</td>\n      <td>...</td>\n      <td>...</td>\n      <td>...</td>\n      <td>...</td>\n    </tr>\n    <tr>\n      <th>9995</th>\n      <td>66</td>\n      <td>7</td>\n      <td>0.858438</td>\n      <td>toco</td>\n      <td>eggs</td>\n    </tr>\n    <tr>\n      <th>9996</th>\n      <td>56</td>\n      <td>3</td>\n      <td>0.422001</td>\n      <td>toco</td>\n      <td>eggs</td>\n    </tr>\n    <tr>\n      <th>9997</th>\n      <td>19</td>\n      <td>5</td>\n      <td>0.646118</td>\n      <td>toco</td>\n      <td>broccoli</td>\n    </tr>\n    <tr>\n      <th>9998</th>\n      <td>30</td>\n      <td>2</td>\n      <td>0.779848</td>\n      <td>pizza</td>\n      <td>canday corn</td>\n    </tr>\n    <tr>\n      <th>9999</th>\n      <td>85</td>\n      <td>7</td>\n      <td>0.012236</td>\n      <td>pizza</td>\n      <td>eggs</td>\n    </tr>\n  </tbody>\n</table>\n<p>10000 rows × 5 columns</p>\n</div>"
     },
     "execution_count": 42,
     "metadata": {},
     "output_type": "execute_result"
    }
   ],
   "source": [
    "df1"
   ],
   "metadata": {
    "collapsed": false
   }
  },
  {
   "cell_type": "markdown",
   "source": [
    "## The Problem\n",
    "Reward calculation:\n",
    "- If they were in bed fo more than 5 hours AND they were sleeping for more than 50% we give them their favorite food.\n",
    "- Otherwise we give them their hate food.\n",
    "- If they are over 90 years old give their favorite food regardless."
   ],
   "metadata": {
    "collapsed": false
   }
  },
  {
   "cell_type": "code",
   "execution_count": 43,
   "outputs": [],
   "source": [
    "def reward_calc(row):\n",
    "    if row['age'] >= 90:\n",
    "        return row['favorite_food']\n",
    "    if (row['time_in_bed'] > 5) & (row['pct_sleeping'] > 0.5):\n",
    "        return row['favorite_food']\n",
    "    return  row['hate_food']"
   ],
   "metadata": {
    "collapsed": false
   }
  },
  {
   "cell_type": "markdown",
   "source": [
    "## Level 1 - Loop"
   ],
   "metadata": {
    "collapsed": false
   }
  },
  {
   "cell_type": "code",
   "execution_count": null,
   "outputs": [],
   "source": [
    "%%timeit\n",
    "df = get_data()\n",
    "for index, row in df.iterrows():\n",
    "    df.loc[index, 'reward'] = reward_calc(row)"
   ],
   "metadata": {
    "collapsed": false,
    "pycharm": {
     "is_executing": true
    }
   }
  },
  {
   "cell_type": "markdown",
   "source": [
    "## Level 2 - Apply"
   ],
   "metadata": {
    "collapsed": false
   }
  },
  {
   "cell_type": "code",
   "execution_count": null,
   "outputs": [],
   "source": [
    "%%timeit\n",
    "df = get_data()\n",
    "df['reward'] = df.apply(reward_calc, axis=1)"
   ],
   "metadata": {
    "collapsed": false,
    "pycharm": {
     "is_executing": true
    }
   }
  },
  {
   "cell_type": "markdown",
   "source": [
    "## Level 3 - Vectorized"
   ],
   "metadata": {
    "collapsed": false
   }
  },
  {
   "cell_type": "code",
   "execution_count": null,
   "outputs": [],
   "source": [
    "%%timeit\n",
    "df = get_data()\n",
    "df['reward'] = df['hate_food']\n",
    "df.loc[ ((df['pct_sleeping'] > 0.5) & (df['time_in_bed'])) |\n",
    "        (df['age']> 90), 'reward'] = df['favorite_food']"
   ],
   "metadata": {
    "collapsed": false,
    "pycharm": {
     "is_executing": true
    }
   }
  },
  {
   "cell_type": "code",
   "execution_count": null,
   "outputs": [],
   "source": [
    "%%timeit\n",
    "df = get_data()"
   ],
   "metadata": {
    "collapsed": false,
    "pycharm": {
     "is_executing": true
    }
   }
  },
  {
   "cell_type": "code",
   "execution_count": null,
   "outputs": [],
   "source": [
    "%%timeit\n",
    "df['reward'] = df['hate_food']\n",
    "df.loc[ ((df['pct_sleeping'] > 0.5) & (df['time_in_bed'])) |\n",
    "        (df['age']> 90), 'reward'] = df['favorite_food']"
   ],
   "metadata": {
    "collapsed": false,
    "pycharm": {
     "is_executing": true
    }
   }
  },
  {
   "cell_type": "markdown",
   "source": [
    "## Plot Difference"
   ],
   "metadata": {
    "collapsed": false
   }
  },
  {
   "cell_type": "code",
   "execution_count": null,
   "outputs": [],
   "source": [
    "results = pd.DataFrame(\n",
    "    [\n",
    "        [\"loop\", 3580, 48.3],\n",
    "        [\"apply\", 192, 6.34],\n",
    "        [\"vectorized\", 1.36, 0.00896],\n",
    "    ],\n",
    "    columns=[\"type\",\"mean\",\"std\"],\n",
    ")"
   ],
   "metadata": {
    "collapsed": false,
    "pycharm": {
     "is_executing": true
    }
   }
  },
  {
   "cell_type": "code",
   "execution_count": null,
   "outputs": [],
   "source": [
    "results.set_index('type')['mean'].plot(kind='bar',)"
   ],
   "metadata": {
    "collapsed": false,
    "pycharm": {
     "is_executing": true
    }
   }
  },
  {
   "cell_type": "code",
   "execution_count": null,
   "outputs": [],
   "source": [
    "results.set_index('type')['mean'].plot(kind='bar',)"
   ],
   "metadata": {
    "collapsed": false,
    "pycharm": {
     "is_executing": true
    }
   }
  },
  {
   "cell_type": "code",
   "execution_count": null,
   "outputs": [],
   "source": [],
   "metadata": {
    "collapsed": false,
    "pycharm": {
     "is_executing": true
    }
   }
  }
 ],
 "metadata": {
  "kernelspec": {
   "display_name": "Python 3",
   "language": "python",
   "name": "python3"
  },
  "language_info": {
   "codemirror_mode": {
    "name": "ipython",
    "version": 2
   },
   "file_extension": ".py",
   "mimetype": "text/x-python",
   "name": "python",
   "nbconvert_exporter": "python",
   "pygments_lexer": "ipython2",
   "version": "2.7.6"
  }
 },
 "nbformat": 4,
 "nbformat_minor": 0
}
