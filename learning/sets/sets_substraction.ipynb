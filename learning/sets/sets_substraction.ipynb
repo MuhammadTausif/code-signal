{
 "cells": [
  {
   "cell_type": "code",
   "execution_count": 2,
   "metadata": {
    "collapsed": true
   },
   "outputs": [
    {
     "name": "stdout",
     "output_type": "stream",
     "text": [
      "Names - Other Names:  {'Akram'}\n",
      "Other Names - Names:  {'Noman'}\n"
     ]
    }
   ],
   "source": [
    "names = {\"Aslam\",\"Akram\", \"Sulman\"}\n",
    "other_names = {\"Noman\",\"Sulman\",\"Aslam\"}\n",
    "print(\"Names - Other Names: \", names - other_names)\n",
    "print(\"Other Names - Names: \", other_names - names)"
   ]
  }
 ],
 "metadata": {
  "kernelspec": {
   "display_name": "Python 3",
   "language": "python",
   "name": "python3"
  },
  "language_info": {
   "codemirror_mode": {
    "name": "ipython",
    "version": 2
   },
   "file_extension": ".py",
   "mimetype": "text/x-python",
   "name": "python",
   "nbconvert_exporter": "python",
   "pygments_lexer": "ipython2",
   "version": "2.7.6"
  }
 },
 "nbformat": 4,
 "nbformat_minor": 0
}
