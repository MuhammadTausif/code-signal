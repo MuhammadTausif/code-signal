{
 "cells": [
  {
   "cell_type": "markdown",
   "source": [
    "# Automation of Upwork and Fiverr with Tkinter"
   ],
   "metadata": {
    "collapsed": false
   }
  },
  {
   "cell_type": "code",
   "execution_count": 4,
   "metadata": {
    "collapsed": true
   },
   "outputs": [],
   "source": [
    "import pyautogui as pui\n",
    "import tkinter as tk\n",
    "import time\n",
    "from datetime import datetime as dt\n",
    "import random"
   ]
  },
  {
   "cell_type": "markdown",
   "source": [
    "## Move the Mouse to 100x100 coordinates"
   ],
   "metadata": {
    "collapsed": false
   }
  },
  {
   "cell_type": "code",
   "execution_count": 5,
   "outputs": [],
   "source": [
    "# Move the mouse to the point\n",
    "pui.moveTo(100, 200)"
   ],
   "metadata": {
    "collapsed": false
   }
  },
  {
   "cell_type": "markdown",
   "source": [
    "## Clicking the mouse button"
   ],
   "metadata": {
    "collapsed": false
   }
  },
  {
   "cell_type": "code",
   "execution_count": null,
   "outputs": [],
   "source": [
    "# Click the left mouse button\n",
    "pui.click()"
   ],
   "metadata": {
    "collapsed": false
   }
  },
  {
   "cell_type": "code",
   "execution_count": 7,
   "outputs": [],
   "source": [
    "\n",
    "pui.click(button='right')"
   ],
   "metadata": {
    "collapsed": false
   }
  },
  {
   "cell_type": "code",
   "execution_count": null,
   "outputs": [],
   "source": [
    "while(True):\n",
    "    pui.moveTo(100, 100)\n",
    "    pui.click()\n",
    "\n",
    "    random_sleep_time = random.uniform(30, 60)\n",
    "    time.sleep(random_sleep_time)\n",
    "    print(dt.now())\n"
   ],
   "metadata": {
    "collapsed": false
   }
  },
  {
   "cell_type": "markdown",
   "source": [
    "## Get the mouse coordinates"
   ],
   "metadata": {
    "collapsed": false
   }
  },
  {
   "cell_type": "code",
   "execution_count": 9,
   "outputs": [
    {
     "ename": "AttributeError",
     "evalue": "module 'pyautogui' has no attribute 'onClick'",
     "output_type": "error",
     "traceback": [
      "\u001B[1;31m---------------------------------------------------------------------------\u001B[0m",
      "\u001B[1;31mAttributeError\u001B[0m                            Traceback (most recent call last)",
      "Cell \u001B[1;32mIn [9], line 5\u001B[0m\n\u001B[0;32m      2\u001B[0m     \u001B[38;5;28;01mif\u001B[39;00m pressed:\n\u001B[0;32m      3\u001B[0m         \u001B[38;5;28mprint\u001B[39m(\u001B[38;5;124mf\u001B[39m\u001B[38;5;124m'\u001B[39m\u001B[38;5;124mMouse clicked at \u001B[39m\u001B[38;5;132;01m{\u001B[39;00mx\u001B[38;5;132;01m}\u001B[39;00m\u001B[38;5;124m, \u001B[39m\u001B[38;5;132;01m{\u001B[39;00my\u001B[38;5;132;01m}\u001B[39;00m\u001B[38;5;124m'\u001B[39m)\n\u001B[1;32m----> 5\u001B[0m \u001B[43mpui\u001B[49m\u001B[38;5;241;43m.\u001B[39;49m\u001B[43monClick\u001B[49m(on_click)\n",
      "\u001B[1;31mAttributeError\u001B[0m: module 'pyautogui' has no attribute 'onClick'"
     ]
    }
   ],
   "source": [
    "def on_click(x, y, button, pressed):\n",
    "    if pressed:\n",
    "        print(f'Mouse clicked at {x}, {y}')\n",
    "\n",
    "pui.onClick(on_click)"
   ],
   "metadata": {
    "collapsed": false
   }
  },
  {
   "cell_type": "code",
   "execution_count": null,
   "outputs": [],
   "source": [],
   "metadata": {
    "collapsed": false
   }
  }
 ],
 "metadata": {
  "kernelspec": {
   "display_name": "Python 3",
   "language": "python",
   "name": "python3"
  },
  "language_info": {
   "codemirror_mode": {
    "name": "ipython",
    "version": 2
   },
   "file_extension": ".py",
   "mimetype": "text/x-python",
   "name": "python",
   "nbconvert_exporter": "python",
   "pygments_lexer": "ipython2",
   "version": "2.7.6"
  }
 },
 "nbformat": 4,
 "nbformat_minor": 0
}
